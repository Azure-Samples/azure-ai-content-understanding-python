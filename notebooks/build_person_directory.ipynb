{
 "cells": [
  {
   "cell_type": "markdown",
   "id": "759f9ec0",
   "metadata": {},
   "source": [
    "# Person Directory"
   ]
  },
  {
   "cell_type": "markdown",
   "id": "61534b8b",
   "metadata": {},
   "source": [
    "## Objective\n",
    "\n",
    "This notebook demonstrates how to identify faces in an image by matching them against a known set of persons. It begins by building a Person Directory, where each subfolder in a specified directory represents an individual. For each subfolder, a person entry is created, and all face images within that folder are enrolled to that person.\n",
    "\n",
    "| Enrollment | Searching |\n",
    "| :-: | :-: |\n",
    "| ![PD_enrollment.png](https://media.githubusercontent.com/media/Azure-Samples/azure-ai-content-understanding-python/refs/heads/zhizho/face/data/face/PD_enrollment.png) | ![PD_searching.png](https://media.githubusercontent.com/media/Azure-Samples/azure-ai-content-understanding-python/refs/heads/zhizho/face/data/face/PD_searching.png) |"
   ]
  },
  {
   "cell_type": "markdown",
   "id": "80a375ca",
   "metadata": {},
   "source": [
    "## Create Azure Content Understanding Face Client\n",
    "\n",
    "> The [AzureContentUnderstandingFaceClient](../python/content_understanding_face_client.py) is a utility class designed for interacting with the Content Understanding Face service. Before the official SDK is released, this acts as a lightweight SDK.\n",
    "\n",
    "> Set the constants **AZURE_AI_ENDPOINT**, **AZURE_AI_API_VERSION**, and **AZURE_AI_API_KEY** with your Azure AI Service credentials.\n",
    "\n",
    "> ⚠️ Important:\n",
    "You must update the code below to match your Azure authentication method.\n",
    "Check for the `# IMPORTANT` comments and modify those sections accordingly.\n",
    "If you skip this step, the sample may not run as expected.\n",
    "\n",
    "> ⚠️ Note:\n",
    "Using a subscription key is supported, but using a token provider with Azure Active Directory (AAD) is more secure and strongly recommended for production environments."
   ]
  },
  {
   "cell_type": "code",
   "execution_count": null,
   "id": "a5b1fa11",
   "metadata": {},
   "outputs": [],
   "source": [
    "import logging\n",
    "import os\n",
    "import sys\n",
    "from pathlib import Path\n",
    "from dotenv import find_dotenv, load_dotenv\n",
    "from azure.identity import DefaultAzureCredential, get_bearer_token_provider\n",
    "\n",
    "# Import utility package from Python samples root directory\n",
    "parent_dir = Path.cwd().parent\n",
    "sys.path.append(str(parent_dir))\n",
    "from python.content_understanding_face_client import AzureContentUnderstandingFaceClient\n",
    "\n",
    "load_dotenv(find_dotenv())\n",
    "logging.basicConfig(level=logging.INFO)\n",
    "\n",
    "credential = DefaultAzureCredential()\n",
    "token_provider = get_bearer_token_provider(credential, \"https://cognitiveservices.azure.com/.default\")\n",
    "\n",
    "client = AzureContentUnderstandingFaceClient(\n",
    "    endpoint=os.getenv(\"AZURE_AI_ENDPOINT\"),\n",
    "    api_version=os.getenv(\"AZURE_AI_API_VERSION\", \"2025-05-01-preview\"),\n",
    "    # IMPORTANT: Comment out token_provider if using subscription key\n",
    "    token_provider=token_provider,\n",
    "    # IMPORTANT: Uncomment this if using subscription key\n",
    "    # subscription_key=os.getenv(\"AZURE_AI_API_KEY\"),\n",
    "    x_ms_useragent=\"azure-ai-content-understanding-python/build_person_directory\",  # Used for sample usage telemetry; comment out to opt out.\n",
    ")"
   ]
  },
  {
   "cell_type": "markdown",
   "id": "c76fa3c2",
   "metadata": {},
   "source": [
    "## Build a Person Directory"
   ]
  },
  {
   "cell_type": "code",
   "execution_count": null,
   "id": "821406a6",
   "metadata": {},
   "outputs": [],
   "source": [
    "import os\n",
    "import uuid\n",
    "folder_path = \"../data/face/enrollment_data\"  # Replace with the path to your folder containing subfolders of images\n",
    "\n",
    "# Create a person directory with a unique ID\n",
    "person_directory_id = f\"person_directory_id_{uuid.uuid4().hex[:8]}\"\n",
    "client.create_person_directory(person_directory_id)\n",
    "logging.info(f\"Created person directory with ID: {person_directory_id}\")\n",
    "\n",
    "# Iterate through all subfolders in the enrollment folder\n",
    "for subfolder_name in os.listdir(folder_path):\n",
    "    subfolder_path = os.path.join(folder_path, subfolder_name)\n",
    "    if os.path.isdir(subfolder_path):\n",
    "        person_name = subfolder_name\n",
    "        # Add a person entry for each subfolder\n",
    "        person = client.add_person(person_directory_id, tags={\"name\": person_name})\n",
    "        logging.info(f\"Created person '{person_name}' with person_id: {person['personId']}\")\n",
    "        if person:\n",
    "            # Iterate through all image files in the subfolder\n",
    "            for filename in os.listdir(subfolder_path):\n",
    "                if filename.lower().endswith(('.png', '.jpg', '.jpeg')):\n",
    "                    image_path = os.path.join(subfolder_path, filename)\n",
    "                    # Convert image to base64 encoded string\n",
    "                    image_data = AzureContentUnderstandingFaceClient.read_file_to_base64(image_path)\n",
    "                    # Add the face to the Person Directory and associate it with the person\n",
    "                    face = client.add_face(person_directory_id, image_data, person['personId'])\n",
    "                    if face:\n",
    "                        logging.info(f\"Added face from '{filename}' with face_id: {face['faceId']} to person_id: {person['personId']}\")\n",
    "                    else:\n",
    "                        logging.warning(f\"Failed to add face from '{filename}' to person_id: {person['personId']}\")\n",
    "\n",
    "logging.info(\"Person directory creation complete.\")"
   ]
  },
  {
   "cell_type": "markdown",
   "id": "6a5a058c",
   "metadata": {},
   "source": [
    "### Identifying persons\n",
    "Detect multiple faces in an image and identify each by matching against enrolled persons in the Person Directory."
   ]
  },
  {
   "cell_type": "code",
   "execution_count": null,
   "id": "1d83524f",
   "metadata": {},
   "outputs": [],
   "source": [
    "test_image_path = \"../data/face/family.jpg\"  # Path to the test image\n",
    "\n",
    "# Detect faces in the test image\n",
    "image_data = AzureContentUnderstandingFaceClient.read_file_to_base64(test_image_path)\n",
    "detected_faces = client.detect_faces(data=image_data)\n",
    "for face in detected_faces.get('detectedFaces', []):\n",
    "    identified_persons = client.identify_person(person_directory_id, image_data, face['boundingBox'])\n",
    "    if identified_persons.get(\"personCandidates\"):\n",
    "        person = identified_persons[\"personCandidates\"][0]\n",
    "        name = person.get(\"tags\", {}).get(\"name\", \"Unknown\")\n",
    "        logging.info(f\"Detected person: {name} with confidence: {person.get('confidence', 0):.2f} at bounding box: {face['boundingBox']}\")\n",
    "\n",
    "logging.info(\"Identification complete.\")"
   ]
  },
  {
   "cell_type": "markdown",
   "id": "de736d94",
   "metadata": {},
   "source": [
    "### Adding and associating a new face\n",
    "You can add a new face image to the Person Directory and associate it with an existing person."
   ]
  },
  {
   "cell_type": "code",
   "execution_count": null,
   "id": "19fe3aff",
   "metadata": {},
   "outputs": [],
   "source": [
    "new_face_image_path = \"new_face_image_path\"  # Path to the new face image to be added.\n",
    "existing_person_id = \"existing_person_id\"  # Unique ID of the person to associate the face with.\n",
    "\n",
    "# Convert the new face image to a base64 encoded string\n",
    "image_data = AzureContentUnderstandingFaceClient.read_file_to_base64(new_face_image_path)\n",
    "# Add the new face to the Person Directory and associate it with the existing person\n",
    "face = client.add_face(person_directory_id, image_data, existing_person_id)\n",
    "if face:\n",
    "    logging.info(f\"Added face from '{new_face_image_path}' with face_id: {face['faceId']} to person_id: {existing_person_id}\")\n",
    "else:\n",
    "    logging.warning(f\"Failed to add face from '{new_face_image_path}' to person_id: {existing_person_id}\")"
   ]
  },
  {
   "cell_type": "markdown",
   "id": "65b0cafa",
   "metadata": {},
   "source": [
    "### Associating a list of already enrolled faces\n",
    "\n",
    "You can associate a list of existing face IDs with their respective persons in the Person Directory. This is useful when linking pre-enrolled faces to specific persons."
   ]
  },
  {
   "cell_type": "code",
   "execution_count": null,
   "id": "af5de3d5",
   "metadata": {},
   "outputs": [],
   "source": [
    "existing_person_id = \"existing_person_id\"  # Unique ID of the person to associate faces with.\n",
    "existing_face_id_list = [\"existing_face_id_1\", \"existing_face_id_2\"]  # List of face IDs to associate.\n",
    "\n",
    "# Associate the listed face IDs with the specified person\n",
    "client.update_person(person_directory_id, existing_person_id, face_ids=existing_face_id_list)"
   ]
  },
  {
   "cell_type": "markdown",
   "id": "873574f7",
   "metadata": {},
   "source": [
    "### Associating and disassociating a face from a person\n",
    "You can link a face to a person or remove such a link in the Person Directory. Associating a face connects it to a specific person, while disassociating removes this connection."
   ]
  },
  {
   "cell_type": "code",
   "execution_count": null,
   "id": "03e5f0eb",
   "metadata": {},
   "outputs": [],
   "source": [
    "existing_face_id = \"existing_face_id\"  # Unique ID of the face.\n",
    "\n",
    "# Remove the association of the face from its person by setting person_id to an empty string\n",
    "client.update_face(person_directory_id, existing_face_id, person_id=\"\")\n",
    "logging.info(f\"Removed association of face_id: {existing_face_id} from its person.\")\n",
    "logging.info(client.get_face(person_directory_id, existing_face_id))  # Returns face information without person association\n",
    "\n",
    "# Associate the face ID with a person\n",
    "existing_person_id = \"existing_person_id\"  # Unique ID of the person to associate the face with.\n",
    "client.update_face(person_directory_id, existing_face_id, person_id=existing_person_id)\n",
    "logging.info(f\"Associated face_id: {existing_face_id} with person_id: {existing_person_id}\")\n",
    "logging.info(client.get_face(person_directory_id, existing_face_id))  # Returns face information with updated person association"
   ]
  },
  {
   "cell_type": "markdown",
   "id": "9a85ccd1",
   "metadata": {},
   "source": [
    "### Updating metadata (tags and descriptions)\n",
    "You can add or update tags for individual persons as well as update the description and tags for the entire Person Directory. These metadata fields help organize, filter, and manage your directory effectively."
   ]
  },
  {
   "cell_type": "code",
   "execution_count": null,
   "id": "96830b0b",
   "metadata": {},
   "outputs": [],
   "source": [
    "# Update the description and tags for the Person Directory\n",
    "person_directory_description = \"This is a sample person directory for managing faces.\"\n",
    "person_directory_tags = {\"project\": \"face_management\", \"version\": \"1.0\"}\n",
    "\n",
    "client.update_person_directory(\n",
    "    person_directory_id,\n",
    "    description=person_directory_description,\n",
    "    tags=person_directory_tags\n",
    ")\n",
    "logging.info(f\"Updated Person Directory with description: '{person_directory_description}' and tags: {person_directory_tags}\")\n",
    "logging.info(client.get_person_directory(person_directory_id))  # Returns the updated Person Directory information\n",
    "\n",
    "# Update the tags for an individual person\n",
    "existing_person_id = \"existing_person_id\"  # Unique ID of the person to update\n",
    "person_tags = {\"role\": \"tester\", \"department\": \"engineering\", \"name\": \"\"}  # This will remove the 'name' tag from the person\n",
    "\n",
    "client.update_person(\n",
    "    person_directory_id,\n",
    "    existing_person_id,\n",
    "    tags=person_tags\n",
    ")\n",
    "logging.info(f\"Updated person with person_id: {existing_person_id} with tags: {person_tags}\")\n",
    "logging.info(client.get_person(person_directory_id, existing_person_id))  # Returns the updated person information"
   ]
  },
  {
   "cell_type": "markdown",
   "id": "a04a7d26",
   "metadata": {},
   "source": [
    "### Deleting a face\n",
    "You can delete a specific face from the Person Directory. Once deleted, the association between the face and the person is removed."
   ]
  },
  {
   "cell_type": "code",
   "execution_count": null,
   "id": "da2bb1bd",
   "metadata": {},
   "outputs": [],
   "source": [
    "existing_face_id = \"existing_face_id\"  # Unique ID of the face to delete\n",
    "\n",
    "client.delete_face(person_directory_id, existing_face_id)\n",
    "logging.info(f\"Deleted face with face_id: {existing_face_id}\")"
   ]
  },
  {
   "cell_type": "markdown",
   "id": "2006b5f3",
   "metadata": {},
   "source": [
    "### Deleting a person\n",
    "\n",
    "When a person is deleted from the Person Directory, all faces associated with that person remain in the directory but their association with the person is removed. This means the faces are no longer linked to any person."
   ]
  },
  {
   "cell_type": "code",
   "execution_count": null,
   "id": "5d52d34e",
   "metadata": {},
   "outputs": [],
   "source": [
    "existing_person_id = \"existing_person_id\"  # Unique ID of the person to delete\n",
    "\n",
    "client.delete_person(person_directory_id, existing_person_id)\n",
    "logging.info(f\"Deleted person with person_id: {existing_person_id}\")"
   ]
  },
  {
   "cell_type": "markdown",
   "id": "c007c6ab",
   "metadata": {},
   "source": [
    "### Deleting a person and their associated faces\n",
    "\n",
    "To completely remove a person and all their associated faces from the Person Directory, delete the faces first, then delete the person. This ensures no residual data remains linked to that person."
   ]
  },
  {
   "cell_type": "code",
   "execution_count": null,
   "id": "3586f860",
   "metadata": {},
   "outputs": [],
   "source": [
    "existing_person_id = \"existing_person_id\"  # Unique ID of the person to delete\n",
    "\n",
    "# Retrieve the list of face IDs associated with the person\n",
    "response = client.get_person(person_directory_id, existing_person_id)\n",
    "face_ids = response.get('faceIds', [])\n",
    "\n",
    "# Delete each face associated with the person\n",
    "for face_id in face_ids:\n",
    "    logging.info(f\"Deleting face with face_id: {face_id} associated with person_id: {existing_person_id}\")\n",
    "    client.delete_face(person_directory_id, face_id)\n",
    "\n",
    "# Delete the person after deleting all associated faces\n",
    "client.delete_person(person_directory_id, existing_person_id)\n",
    "logging.info(f\"Deleted person with person_id: {existing_person_id} and all associated faces.\")"
   ]
  }
 ],
 "metadata": {
  "kernelspec": {
   "display_name": "Python 3",
   "language": "python",
   "name": "python3"
  },
  "language_info": {
   "codemirror_mode": {
    "name": "ipython",
    "version": 3
   },
   "file_extension": ".py",
   "mimetype": "text/x-python",
   "name": "python",
   "nbconvert_exporter": "python",
   "pygments_lexer": "ipython3",
   "version": "3.11.12"
  }
 },
 "nbformat": 4,
 "nbformat_minor": 5
}