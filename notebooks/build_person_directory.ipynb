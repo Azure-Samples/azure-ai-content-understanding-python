{
 "cells": [
  {
   "cell_type": "markdown",
   "id": "759f9ec0",
   "metadata": {},
   "source": [
    "# Person Directory"
   ]
  },
  {
   "cell_type": "markdown",
   "id": "61534b8b",
   "metadata": {},
   "source": [
    "## Objective\n",
    "\n",
    " This script builds a Person Directory by enrolling multiple faces for each person from a directory where each subfolder represents a different person. It creates a person for each subfolder and adds all face images within that subfolder to the created person.\n",
    "\n",
    "| Enrollment | Searching |\n",
    "| :-: | :-: |\n",
    "| ![PD_enrollment.png](https://media.githubusercontent.com/media/Azure-Samples/azure-ai-content-understanding-python/refs/heads/zhizho/face/data/face/PD_enrollment.png) | ![PD_searching.png](https://media.githubusercontent.com/media/Azure-Samples/azure-ai-content-understanding-python/refs/heads/zhizho/face/data/face/PD_searching.png) |"
   ]
  },
  {
   "cell_type": "markdown",
   "id": "80a375ca",
   "metadata": {},
   "source": [
    "## Create Azure content understanding face client\n",
    ">The [AzureContentUnderstandingFaceClient](../python/content_understanding_face_client.py) is utility Class which contain the functions to interact with the Content Understanding face server. Before Content Understanding SDK release, we can regard it as a lightweight SDK. Fill the constant **AZURE_AI_ENDPOINT**, **AZURE_AI_API_VERSION**, **AZURE_AI_API_KEY** with the information from your Azure AI Service."
   ]
  },
  {
   "cell_type": "code",
   "execution_count": null,
   "id": "a5b1fa11",
   "metadata": {},
   "outputs": [],
   "source": [
    "import logging\n",
    "import os\n",
    "import sys\n",
    "from pathlib import Path\n",
    "from dotenv import find_dotenv, load_dotenv\n",
    "from azure.identity import DefaultAzureCredential, get_bearer_token_provider\n",
    "\n",
    "# import utility package from python samples root directory\n",
    "parent_dir = Path(Path.cwd()).parent\n",
    "sys.path.append(str(parent_dir))\n",
    "from python.content_understanding_face_client import AzureContentUnderstandingFaceClient\n",
    "\n",
    "load_dotenv(find_dotenv())\n",
    "logging.basicConfig(level=logging.INFO)\n",
    "\n",
    "credential = DefaultAzureCredential()\n",
    "token_provider = get_bearer_token_provider(credential, \"https://cognitiveservices.azure.com/.default\")\n",
    "\n",
    "client = AzureContentUnderstandingFaceClient(\n",
    "    endpoint=os.getenv(\"AZURE_AI_ENDPOINT\"),\n",
    "    api_version=os.getenv(\"AZURE_AI_API_VERSION\", \"2025-05-01-preview\"),\n",
    "    token_provider=token_provider,\n",
    "    x_ms_useragent=\"azure-ai-content-understanding-python/build_person_directory\", # This header is used for sample usage telemetry, please comment out this line if you want to opt out.\n",
    ")"
   ]
  },
  {
   "cell_type": "markdown",
   "id": "c76fa3c2",
   "metadata": {},
   "source": [
    "## Build a Person Directory"
   ]
  },
  {
   "cell_type": "code",
   "execution_count": null,
   "id": "821406a6",
   "metadata": {},
   "outputs": [],
   "source": [
    "import os\n",
    "import uuid\n",
    "folder_path = \"../data/face/enrollment_data\"  # Replace with the path to your folder containing subfolders of images\n",
    "\n",
    "# Create a person directory\n",
    "person_directory_id = f\"person_directory_id_{uuid.uuid4().hex[:8]}\"\n",
    "client.create_person_directory(person_directory_id)\n",
    "print(f\"Created person directory with ID: {person_directory_id}\")\n",
    "\n",
    "# Iterate through all subfolders in the folder_path\n",
    "for subfolder_name in os.listdir(folder_path):\n",
    "    subfolder_path = os.path.join(folder_path, subfolder_name)\n",
    "    if os.path.isdir(subfolder_path):\n",
    "        person_name = subfolder_name\n",
    "        # Add a person for each subfolder\n",
    "        person = client.add_person(person_directory_id, tags={\"name\": person_name})\n",
    "        print(f\"Created person {person_name} with person_id: {person['personId']}\")\n",
    "        if person:\n",
    "            # Iterate through all images in the subfolder\n",
    "            for filename in os.listdir(subfolder_path):\n",
    "                if filename.lower().endswith(('.png', '.jpg', '.jpeg')):\n",
    "                    image_path = os.path.join(subfolder_path, filename)\n",
    "                    # Convert image to base64\n",
    "                    image_data = AzureContentUnderstandingFaceClient.read_file_to_base64(image_path)\n",
    "                    # Add a face to the Person Directory and associate it to the added person\n",
    "                    face = client.add_face(person_directory_id, image_data, person['personId'])\n",
    "                    if face:\n",
    "                        print(f\"Added face from {filename} with face_id: {face['faceId']} to person_id: {person['personId']}\")\n",
    "                    else:\n",
    "                        print(f\"Failed to add face from {filename} to person_id: {person['personId']}\")\n",
    "\n",
    "print(\"Done\")"
   ]
  },
  {
   "cell_type": "markdown",
   "id": "6a5a058c",
   "metadata": {},
   "source": [
    "### Identifying person\n",
    "Detect multiple faces in an image and identify each one by matching it against enrolled persons in a Person Directory."
   ]
  },
  {
   "cell_type": "code",
   "execution_count": null,
   "id": "1d83524f",
   "metadata": {},
   "outputs": [],
   "source": [
    "test_image_path = \"../data/face/family.jpg\"  # Path to the test image\n",
    "\n",
    "# Detect faces in the test image\n",
    "image_data = AzureContentUnderstandingFaceClient.read_file_to_base64(test_image_path)\n",
    "detected_faces = client.detect_faces(data=image_data)\n",
    "for face in detected_faces['detectedFaces']:\n",
    "    identified_persons = client.identify_person(person_directory_id, image_data, face['boundingBox'])\n",
    "    if identified_persons.get(\"personCandidates\"):\n",
    "        person = identified_persons[\"personCandidates\"][0]\n",
    "        name = person.get(\"tags\", {}).get(\"name\", \"Unknown\")\n",
    "        print(f\"Detected person: {name} with confidence: {person.get('confidence', 0)} at bounding box: {face['boundingBox']}\")\n",
    "\n",
    "print(\"Done\")"
   ]
  },
  {
   "cell_type": "markdown",
   "id": "de736d94",
   "metadata": {},
   "source": [
    "### Adding and associating a new face\n",
    "You can add an additional face to a Person Directory and associate it with an already enrolled person."
   ]
  },
  {
   "cell_type": "code",
   "execution_count": null,
   "id": "19fe3aff",
   "metadata": {},
   "outputs": [],
   "source": [
    "new_face_image_path = \"new_face_image_path\" # The path to the face image you want to add.\n",
    "existing_person_id = \"existing_person_id\" # The unique ID of the person to whom the face should be associated.\n",
    "\n",
    "# Convert the new face image to base64\n",
    "image_data = AzureContentUnderstandingFaceClient.read_file_to_base64(new_face_image_path)\n",
    "# Add the new face to the person directory and associate it with the existing person\n",
    "face = client.add_face(person_directory_id, image_data, person['personId'])\n",
    "if face:\n",
    "    print(f\"Added face from {new_face_image_path} with face_id: {face['faceId']} to person_id: {existing_person_id}\")\n",
    "else:\n",
    "    print(f\"Failed to add face from {new_face_image_path} to person_id: {existing_person_id}\")"
   ]
  },
  {
   "cell_type": "markdown",
   "id": "65b0cafa",
   "metadata": {},
   "source": [
    "### Associating a list of already enrolled faces\n",
    "\n",
    "You can associate a list of already enrolled faces in the Person Directory with their respective persons. This can be useful when you have existing face IDs and want to associate them to specific persons in the directory."
   ]
  },
  {
   "cell_type": "code",
   "execution_count": null,
   "id": "af5de3d5",
   "metadata": {},
   "outputs": [],
   "source": [
    "existing_person_id = \"existing_person_id\"  # The unique ID of the person to whom the face should be associated.\n",
    "existing_face_id_list = [\"existing_face_id_1\", \"existing_face_id_2\"]  # The list of face IDs to be associated.\n",
    "\n",
    "# Associate the existing face IDs with the existing person\n",
    "client.update_person(person_directory_id, existing_person_id, face_ids=existing_face_id_list)"
   ]
  },
  {
   "cell_type": "markdown",
   "id": "873574f7",
   "metadata": {},
   "source": [
    "### Associating and disassociating a face from a person\n",
    "You can associate or disassociate a face from a person in the Person Directory. Associating a face links it to a specific person, while disassociating removes this link."
   ]
  },
  {
   "cell_type": "code",
   "execution_count": null,
   "id": "03e5f0eb",
   "metadata": {},
   "outputs": [],
   "source": [
    "existing_face_id = \"existing_face_id\"  # The unique ID of the face.\n",
    "\n",
    "# Remove the association of the existing face ID from the person\n",
    "client.update_face(person_directory_id, existing_face_id, person_id=\"\") # The person_id is set to \"\" to remove the association\n",
    "print(f\"Removed association of face_id: {existing_face_id} from the existing person_id\")\n",
    "print(client.get_face(person_directory_id, existing_face_id)) # This will return the face information without the person association\n",
    "\n",
    "# Associate the existing face ID with a person\n",
    "existing_person_id = \"existing_person_id\"  # The unique ID of the person to be associated with the face.\n",
    "client.update_face(person_directory_id, existing_face_id, person_id=existing_person_id)\n",
    "print(f\"Associated face_id: {existing_face_id} with person_id: {existing_person_id}\")\n",
    "print(client.get_face(person_directory_id, existing_face_id)) # This will return the face information with the new person association"
   ]
  },
  {
   "cell_type": "markdown",
   "id": "9a85ccd1",
   "metadata": {},
   "source": [
    "### Updating metadata (tags and descriptions)\n",
    "You can add or update tags for individual persons, and both descriptions and tags for the overall Person Directory. These metadata fields help you better organize, filter, and manage your directory."
   ]
  },
  {
   "cell_type": "code",
   "execution_count": null,
   "id": "96830b0b",
   "metadata": {},
   "outputs": [],
   "source": [
    "# Update the description and tags for the Person Directory\n",
    "person_directory_description = \"This is a sample person directory for managing faces.\"\n",
    "person_directory_tags = {\"project\": \"face_management\", \"version\": \"1.0\"}\n",
    "\n",
    "client.update_person_directory(\n",
    "    person_directory_id,\n",
    "    description=person_directory_description,\n",
    "    tags=person_directory_tags\n",
    ")\n",
    "print(f\"Updated Person Directory with description: '{person_directory_description}' and tags: {person_directory_tags}\")\n",
    "print(client.get_person_directory(person_directory_id)) # This will return the updated person directory information\n",
    "\n",
    "# Update the tags for an individual person\n",
    "existing_person_id = \"existing_person_id\"  # The unique ID of the person to update.\n",
    "person_tags = {\"role\": \"tester\", \"department\": \"engineering\", \"name\": \"\"} # This will remove the name tag from the person.\n",
    "\n",
    "client.update_person(\n",
    "    person_directory_id,\n",
    "    existing_person_id,\n",
    "    tags=person_tags\n",
    ")\n",
    "print(f\"Updated person with person_id: {existing_person_id} with tags: {person_tags}\")\n",
    "print(client.get_person(person_directory_id, existing_person_id)) # This will return the updated person information"
   ]
  },
  {
   "cell_type": "markdown",
   "id": "a04a7d26",
   "metadata": {},
   "source": [
    "### Deleting a face\n",
    "You can also delete a specific face. Once the face is deleted, the association between the face and its associated person is removed."
   ]
  },
  {
   "cell_type": "code",
   "execution_count": null,
   "id": "da2bb1bd",
   "metadata": {},
   "outputs": [],
   "source": [
    "existing_face_id = \"existing_face_id\" # The unique ID of the face to delete.\n",
    "\n",
    "client.delete_face(person_directory_id, existing_face_id)\n",
    "print(f\"Deleted face with face_id: {existing_face_id}\")"
   ]
  },
  {
   "cell_type": "markdown",
   "id": "2006b5f3",
   "metadata": {},
   "source": [
    "### Deleting a person\n",
    "\n",
    "When a person is deleted from the Person Directory, all the faces associated with that person remain in the Person Directory, but the association between the person and the faces is removed. This means the faces are no longer associated to any person in the Person Directory."
   ]
  },
  {
   "cell_type": "code",
   "execution_count": null,
   "id": "5d52d34e",
   "metadata": {},
   "outputs": [],
   "source": [
    "existing_person_id = \"existing_person_id\"  # The unique ID of the person to delete.\n",
    "\n",
    "client.delete_person(person_directory_id, existing_person_id)\n",
    "print(f\"Deleted person with person_id: {existing_person_id}\")"
   ]
  },
  {
   "cell_type": "markdown",
   "id": "c007c6ab",
   "metadata": {},
   "source": [
    "### Deleting a person and their associated faces\n",
    "\n",
    "To completely remove a person and all their associated faces from the Person Directory, you can delete the person along with their face associations. This operation ensures that no residual data related to the person remains in the directory."
   ]
  },
  {
   "cell_type": "code",
   "execution_count": null,
   "id": "3586f860",
   "metadata": {},
   "outputs": [],
   "source": [
    "existing_person_id = \"existing_person_id\"  # The unique ID of the person to delete.\n",
    "\n",
    "# Get the list of face IDs associated with the person\n",
    "response = client.get_person(person_directory_id, existing_person_id)\n",
    "face_ids = response.get('faceIds', [])\n",
    "\n",
    "# Delete each face associated with the person\n",
    "for face_id in face_ids:\n",
    "    print(f\"Deleting face with face_id: {face_id} from person_id: {existing_person_id}\")\n",
    "    client.delete_face(person_directory_id, face_id)\n",
    "\n",
    "# Delete the person after deleting all associated faces\n",
    "client.delete_person(person_directory_id, existing_person_id)\n",
    "print(f\"Deleted person with person_id: {existing_person_id} and all associated faces.\")"
   ]
  }
 ],
 "metadata": {
  "kernelspec": {
   "display_name": "openai-sample",
   "language": "python",
   "name": "python3"
  },
  "language_info": {
   "codemirror_mode": {
    "name": "ipython",
    "version": 3
   },
   "file_extension": ".py",
   "mimetype": "text/x-python",
   "name": "python",
   "nbconvert_exporter": "python",
   "pygments_lexer": "ipython3",
   "version": "3.9.18"
  }
 },
 "nbformat": 4,
 "nbformat_minor": 5
}
