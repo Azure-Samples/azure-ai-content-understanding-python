{
 "cells": [
  {
   "cell_type": "markdown",
   "id": "759f9ec0",
   "metadata": {},
   "source": [
    "# Person Directory"
   ]
  },
  {
   "cell_type": "markdown",
   "id": "61534b8b",
   "metadata": {},
   "source": [
    "## Objective\n",
    "\n",
    " This notebook demonstrates how to identify faces in an image against a known set of persons. It begins by building a Person Directory, where each subfolder in a specified directory represents an individual. For each subfolder, a person is created and all face images within it are enrolled to that person.\n",
    "\n",
    "| Enrollment | Searching |\n",
    "| :-: | :-: |\n",
    "| ![PD_enrollment.png](https://media.githubusercontent.com/media/Azure-Samples/azure-ai-content-understanding-python/refs/heads/zhizho/face/data/face/PD_enrollment.png) | ![PD_searching.png](https://media.githubusercontent.com/media/Azure-Samples/azure-ai-content-understanding-python/refs/heads/zhizho/face/data/face/PD_searching.png) |"
   ]
  },
  {
   "cell_type": "markdown",
   "id": "80a375ca",
   "metadata": {},
   "source": [
    "## Create Azure content understanding face client\n",
    ">The [AzureContentUnderstandingFaceClient](../python/content_understanding_face_client.py) is a utility class for interacting with the Content Understanding Face service. Before the official SDK is released, this acts as a lightweight SDK. Set the constants **AZURE_AI_ENDPOINT**, **AZURE_AI_API_VERSION**, and **AZURE_AI_API_KEY** with your Azure AI Service information."
   ]
  },
  {
   "cell_type": "code",
   "execution_count": 2,
   "id": "a5b1fa11",
   "metadata": {},
   "outputs": [
    {
     "name": "stderr",
     "output_type": "stream",
     "text": [
      "INFO:azure.identity._credentials.environment:No environment configuration found.\n",
      "INFO:azure.identity._credentials.managed_identity:ManagedIdentityCredential will use IMDS\n",
      "INFO:azure.core.pipeline.policies.http_logging_policy:Request URL: 'http://169.254.169.254/metadata/identity/oauth2/token?api-version=REDACTED&resource=REDACTED'\n",
      "Request method: 'GET'\n",
      "Request headers:\n",
      "    'User-Agent': 'azsdk-python-identity/1.23.0 Python/3.11.12 (Linux-5.15.167.4-microsoft-standard-WSL2-x86_64-with-glibc2.36)'\n",
      "No body was attached to the request\n",
      "INFO:azure.identity._credentials.chained:DefaultAzureCredential acquired a token from AzureDeveloperCliCredential\n"
     ]
    }
   ],
   "source": [
    "import logging\n",
    "import os\n",
    "import sys\n",
    "from pathlib import Path\n",
    "from dotenv import find_dotenv, load_dotenv\n",
    "from azure.identity import DefaultAzureCredential, get_bearer_token_provider\n",
    "\n",
    "# import utility package from python samples root directory\n",
    "parent_dir = Path.cwd().parent\n",
    "sys.path.append(str(parent_dir))\n",
    "from python.content_understanding_face_client import AzureContentUnderstandingFaceClient\n",
    "\n",
    "load_dotenv(find_dotenv())\n",
    "logging.basicConfig(level=logging.INFO)\n",
    "\n",
    "credential = DefaultAzureCredential()\n",
    "token_provider = get_bearer_token_provider(credential, \"https://cognitiveservices.azure.com/.default\")\n",
    "\n",
    "client = AzureContentUnderstandingFaceClient(\n",
    "    endpoint=os.getenv(\"AZURE_AI_ENDPOINT\"),\n",
    "    api_version=os.getenv(\"AZURE_AI_API_VERSION\", \"2025-05-01-preview\"),\n",
    "    token_provider=token_provider,\n",
    "    x_ms_useragent=\"azure-ai-content-understanding-python/build_person_directory\", # This header is used for sample usage telemetry, please comment out this line if you want to opt out.\n",
    ")"
   ]
  },
  {
   "cell_type": "markdown",
   "id": "c76fa3c2",
   "metadata": {},
   "source": [
    "## Build a Person Directory"
   ]
  },
  {
   "cell_type": "code",
   "execution_count": 13,
   "id": "821406a6",
   "metadata": {},
   "outputs": [
    {
     "name": "stderr",
     "output_type": "stream",
     "text": [
      "INFO:root:Created person directory with ID: person_directory_id_8523e495\n",
      "INFO:root:Created person Alex with person_id: f0fbce53-b12d-499e-85e2-5bf9a42103f2\n",
      "INFO:root:Added face from Family1-Son1.jpg with face_id: 905e3561-431d-44f6-982a-e6f4e21acf5b to person_id: f0fbce53-b12d-499e-85e2-5bf9a42103f2\n",
      "INFO:root:Added face from Family1-Son2.jpg with face_id: e5605995-5c36-4b0b-8838-6122238e7552 to person_id: f0fbce53-b12d-499e-85e2-5bf9a42103f2\n",
      "INFO:root:Created person Bill with person_id: e03cd4a7-ddf5-4702-b446-3893dd2f61ec\n",
      "INFO:root:Added face from Family1-Dad1.jpg with face_id: 30c890c2-d9a2-4c42-808d-831e6f7cb698 to person_id: e03cd4a7-ddf5-4702-b446-3893dd2f61ec\n",
      "INFO:root:Added face from Family1-Dad2.jpg with face_id: 11313a38-0182-43e5-8da0-c961ab46153e to person_id: e03cd4a7-ddf5-4702-b446-3893dd2f61ec\n",
      "INFO:root:Added face from Family1-Dad3.jpg with face_id: e68018da-7cf8-4a4c-9659-d54aac224b4a to person_id: e03cd4a7-ddf5-4702-b446-3893dd2f61ec\n",
      "INFO:root:Created person Clare with person_id: 3098a39b-6bfb-4dc9-9f17-c29d6a19b329\n",
      "INFO:root:Added face from Family1-Mom1.jpg with face_id: 20177382-c532-4feb-a806-5d1840db7845 to person_id: 3098a39b-6bfb-4dc9-9f17-c29d6a19b329\n",
      "INFO:root:Added face from Family1-Mom2.jpg with face_id: cf3e7422-4a59-42c7-86f9-0bf25988b15a to person_id: 3098a39b-6bfb-4dc9-9f17-c29d6a19b329\n",
      "INFO:root:Created person Jordan with person_id: cd69ece3-d158-429c-87e2-163d2805ffe7\n",
      "INFO:root:Added face from Family1-Daughter1.jpg with face_id: 8a9568d5-cef0-4cdd-80a3-20632ee4e917 to person_id: cd69ece3-d158-429c-87e2-163d2805ffe7\n",
      "INFO:root:Added face from Family1-Daughter2.jpg with face_id: bbcb30b4-84f8-4832-a538-d2b9371b233c to person_id: cd69ece3-d158-429c-87e2-163d2805ffe7\n",
      "INFO:root:Added face from Family1-Daughter3.jpg with face_id: fce105a4-1cbc-42c6-b342-1df848c27256 to person_id: cd69ece3-d158-429c-87e2-163d2805ffe7\n",
      "INFO:root:Done\n"
     ]
    }
   ],
   "source": [
    "import os\n",
    "import uuid\n",
    "folder_path = \"../data/face/enrollment_data\"  # Replace with the path to your folder containing subfolders of images\n",
    "\n",
    "# Create a person directory\n",
    "person_directory_id = f\"person_directory_id_{uuid.uuid4().hex[:8]}\"\n",
    "client.create_person_directory(person_directory_id)\n",
    "logging.info(f\"Created person directory with ID: {person_directory_id}\")\n",
    "\n",
    "# Iterate through all subfolders in the folder_path\n",
    "for subfolder_name in os.listdir(folder_path):\n",
    "    subfolder_path = os.path.join(folder_path, subfolder_name)\n",
    "    if os.path.isdir(subfolder_path):\n",
    "        person_name = subfolder_name\n",
    "        # Add a person for each subfolder\n",
    "        person = client.add_person(person_directory_id, tags={\"name\": person_name})\n",
    "        logging.info(f\"Created person {person_name} with person_id: {person['personId']}\")\n",
    "        if person:\n",
    "            # Iterate through all images in the subfolder\n",
    "            for filename in os.listdir(subfolder_path):\n",
    "                if filename.lower().endswith(('.png', '.jpg', '.jpeg')):\n",
    "                    image_path = os.path.join(subfolder_path, filename)\n",
    "                    # Convert image to base64\n",
    "                    image_data = AzureContentUnderstandingFaceClient.read_file_to_base64(image_path)\n",
    "                    # Add a face to the Person Directory and associate it to the added person\n",
    "                    face = client.add_face(person_directory_id, image_data, person['personId'])\n",
    "                    if face:\n",
    "                        logging.info(f\"Added face from {filename} with face_id: {face['faceId']} to person_id: {person['personId']}\")\n",
    "                    else:\n",
    "                        logging.warning(f\"Failed to add face from {filename} to person_id: {person['personId']}\")\n",
    "\n",
    "logging.info(\"Done\")"
   ]
  },
  {
   "cell_type": "markdown",
   "id": "6a5a058c",
   "metadata": {},
   "source": [
    "### Identifying person\n",
    "Detect multiple faces in an image and identify each one by matching it against enrolled persons in the Person Directory."
   ]
  },
  {
   "cell_type": "code",
   "execution_count": 4,
   "id": "1d83524f",
   "metadata": {},
   "outputs": [
    {
     "name": "stderr",
     "output_type": "stream",
     "text": [
      "INFO:root:Detected person: Bill with confidence: 0.97 at bounding box: {'left': 297, 'top': 172, 'width': 116, 'height': 156}\n",
      "INFO:root:Detected person: Clare with confidence: 0.967 at bounding box: {'left': 399, 'top': 207, 'width': 95, 'height': 131}\n",
      "INFO:root:Detected person: Jordan with confidence: 0.917 at bounding box: {'left': 500, 'top': 214, 'width': 87, 'height': 110}\n",
      "INFO:root:Detected person: Alex with confidence: 0.933 at bounding box: {'left': 209, 'top': 142, 'width': 87, 'height': 104}\n",
      "INFO:root:Done\n"
     ]
    }
   ],
   "source": [
    "test_image_path = \"../data/face/family.jpg\"  # Path to the test image\n",
    "\n",
    "# Detect faces in the test image\n",
    "image_data = AzureContentUnderstandingFaceClient.read_file_to_base64(test_image_path)\n",
    "detected_faces = client.detect_faces(data=image_data)\n",
    "for face in detected_faces['detectedFaces']:\n",
    "    identified_persons = client.identify_person(person_directory_id, image_data, face['boundingBox'])\n",
    "    if identified_persons.get(\"personCandidates\"):\n",
    "        person = identified_persons[\"personCandidates\"][0]\n",
    "        name = person.get(\"tags\", {}).get(\"name\", \"Unknown\")\n",
    "        logging.info(f\"Detected person: {name} with confidence: {person.get('confidence', 0)} at bounding box: {face['boundingBox']}\")\n",
    "\n",
    "logging.info(\"Done\")"
   ]
  },
  {
   "cell_type": "markdown",
   "id": "de736d94",
   "metadata": {},
   "source": [
    "### Adding and associating a new face\n",
    "You can add a new face to the Person Directory and associate it with an existing person."
   ]
  },
  {
   "cell_type": "code",
   "execution_count": 7,
   "id": "19fe3aff",
   "metadata": {},
   "outputs": [
    {
     "name": "stderr",
     "output_type": "stream",
     "text": [
      "INFO:root:Added face from ../data/face/PD_enrollment.png with face_id: 6eff6455-5d03-4ef6-8860-ae4290a8cdb4 to person_id: 3b2fe0d7-6a4f-45e7-a5a7-774edcc58179\n"
     ]
    }
   ],
   "source": [
    "new_face_image_path = \"new_face_image_path\" # The path to the face image you want to add.\n",
    "existing_person_id = \"existing_person_id\" # The unique ID of the person to whom the face should be associated.\n",
    "\n",
    "# Convert the new face image to base64\n",
    "image_data = AzureContentUnderstandingFaceClient.read_file_to_base64(new_face_image_path)\n",
    "# Add the new face to the person directory and associate it with the existing person\n",
    "face = client.add_face(person_directory_id, image_data, existing_person_id)\n",
    "if face:\n",
    "    logging.info(f\"Added face from {new_face_image_path} with face_id: {face['faceId']} to person_id: {existing_person_id}\")\n",
    "else:\n",
    "    logging.warning(f\"Failed to add face from {new_face_image_path} to person_id: {existing_person_id}\")"
   ]
  },
  {
   "cell_type": "markdown",
   "id": "65b0cafa",
   "metadata": {},
   "source": [
    "### Associating a list of already enrolled faces\n",
    "\n",
    "You can associate a list of already enrolled faces in the Person Directory with their respective persons. This is useful if you have existing face IDs to link to specific persons."
   ]
  },
  {
   "cell_type": "code",
   "execution_count": 10,
   "id": "af5de3d5",
   "metadata": {},
   "outputs": [
    {
     "data": {
      "text/plain": [
       "{'personId': '3b2fe0d7-6a4f-45e7-a5a7-774edcc58179',\n",
       " 'tags': {'name': 'Bill'},\n",
       " 'faceIds': ['1fbbb7c1-d6f8-4f97-8e8e-e0d00f207c26',\n",
       "  '46c33919-cb8d-4be8-bb60-253f1fb3e8dd',\n",
       "  '5a6cae8f-fffb-469f-a9ec-abb2525c8114',\n",
       "  '6eff6455-5d03-4ef6-8860-ae4290a8cdb4']}"
      ]
     },
     "execution_count": 10,
     "metadata": {},
     "output_type": "execute_result"
    }
   ],
   "source": [
    "existing_person_id = \"existing_person_id\"  # The unique ID of the person to whom the face should be associated.\n",
    "existing_face_id_list = [\"existing_face_id_1\", \"existing_face_id_2\"]  # The list of face IDs to be associated.\n",
    "\n",
    "# Associate the existing face IDs with the existing person\n",
    "client.update_person(person_directory_id, existing_person_id, face_ids=existing_face_id_list)"
   ]
  },
  {
   "cell_type": "markdown",
   "id": "873574f7",
   "metadata": {},
   "source": [
    "### Associating and disassociating a face from a person\n",
    "You can associate or disassociate a face from a person in the Person Directory. Associating a face links it to a specific person, while disassociating removes this link."
   ]
  },
  {
   "cell_type": "code",
   "execution_count": 17,
   "id": "03e5f0eb",
   "metadata": {},
   "outputs": [
    {
     "name": "stderr",
     "output_type": "stream",
     "text": [
      "ERROR:python.content_understanding_face_client:Error in update_face: 404 - {\"error\":{\"code\":\"FaceNotFound\",\"message\":\"Face '1fbbb7c1-d6f8-4f97-8e8e-e0d00f207c26' not found.\"}}\n"
     ]
    },
    {
     "ename": "Exception",
     "evalue": "Error in update_face: 404 - {\"error\":{\"code\":\"FaceNotFound\",\"message\":\"Face '1fbbb7c1-d6f8-4f97-8e8e-e0d00f207c26' not found.\"}}",
     "output_type": "error",
     "traceback": [
      "\u001b[31m---------------------------------------------------------------------------\u001b[39m",
      "\u001b[31mException\u001b[39m                                 Traceback (most recent call last)",
      "\u001b[36mCell\u001b[39m\u001b[36m \u001b[39m\u001b[32mIn[17]\u001b[39m\u001b[32m, line 4\u001b[39m\n\u001b[32m      1\u001b[39m existing_face_id = \u001b[33m\"\u001b[39m\u001b[33m1fbbb7c1-d6f8-4f97-8e8e-e0d00f207c26\u001b[39m\u001b[33m\"\u001b[39m  \u001b[38;5;66;03m# The unique ID of the face.\u001b[39;00m\n\u001b[32m      3\u001b[39m \u001b[38;5;66;03m# Remove the association of the existing face ID from the person\u001b[39;00m\n\u001b[32m----> \u001b[39m\u001b[32m4\u001b[39m \u001b[43mclient\u001b[49m\u001b[43m.\u001b[49m\u001b[43mupdate_face\u001b[49m\u001b[43m(\u001b[49m\u001b[43mperson_directory_id\u001b[49m\u001b[43m,\u001b[49m\u001b[43m \u001b[49m\u001b[43mexisting_face_id\u001b[49m\u001b[43m,\u001b[49m\u001b[43m \u001b[49m\u001b[43mperson_id\u001b[49m\u001b[43m=\u001b[49m\u001b[33;43m\"\u001b[39;49m\u001b[33;43m\"\u001b[39;49m\u001b[43m)\u001b[49m \u001b[38;5;66;03m# The person_id is set to \"\" to remove the association\u001b[39;00m\n\u001b[32m      5\u001b[39m logging.info(\u001b[33mf\u001b[39m\u001b[33m\"\u001b[39m\u001b[33mRemoved association of face_id: \u001b[39m\u001b[38;5;132;01m{\u001b[39;00mexisting_face_id\u001b[38;5;132;01m}\u001b[39;00m\u001b[33m from the existing person_id\u001b[39m\u001b[33m\"\u001b[39m)\n\u001b[32m      6\u001b[39m logging.info(client.get_face(person_directory_id, existing_face_id)) \u001b[38;5;66;03m# This will return the face information without the person association\u001b[39;00m\n",
      "\u001b[36mFile \u001b[39m\u001b[32m/workspaces/azure-ai-content-understanding-python/python/content_understanding_face_client.py:262\u001b[39m, in \u001b[36mAzureContentUnderstandingFaceClient.update_face\u001b[39m\u001b[34m(self, person_directory_id, face_id, person_id)\u001b[39m\n\u001b[32m    252\u001b[39m request_body = {\u001b[33m\"\u001b[39m\u001b[33mpersonId\u001b[39m\u001b[33m\"\u001b[39m: person_id}\n\u001b[32m    253\u001b[39m response = requests.patch(\n\u001b[32m    254\u001b[39m     \u001b[38;5;28mself\u001b[39m._get_person_directory_url(\n\u001b[32m    255\u001b[39m         \u001b[38;5;28mself\u001b[39m._endpoint,\n\u001b[32m   (...)\u001b[39m\u001b[32m    260\u001b[39m     json=request_body,\n\u001b[32m    261\u001b[39m )\n\u001b[32m--> \u001b[39m\u001b[32m262\u001b[39m \u001b[38;5;28;01mreturn\u001b[39;00m \u001b[38;5;28;43mself\u001b[39;49m\u001b[43m.\u001b[49m\u001b[43m_handle_response\u001b[49m\u001b[43m(\u001b[49m\u001b[43mresponse\u001b[49m\u001b[43m,\u001b[49m\u001b[43m \u001b[49m\u001b[33;43m\"\u001b[39;49m\u001b[33;43mupdate_face\u001b[39;49m\u001b[33;43m\"\u001b[39;49m\u001b[43m)\u001b[49m\n",
      "\u001b[36mFile \u001b[39m\u001b[32m/workspaces/azure-ai-content-understanding-python/python/content_understanding_face_client.py:68\u001b[39m, in \u001b[36mAzureContentUnderstandingFaceClient._handle_response\u001b[39m\u001b[34m(self, response, action)\u001b[39m\n\u001b[32m     64\u001b[39m \u001b[38;5;28;01mif\u001b[39;00m response.status_code != \u001b[32m200\u001b[39m \u001b[38;5;129;01mand\u001b[39;00m response.status_code != \u001b[32m201\u001b[39m:\n\u001b[32m     65\u001b[39m     \u001b[38;5;28mself\u001b[39m._logger.error(\n\u001b[32m     66\u001b[39m         \u001b[33mf\u001b[39m\u001b[33m\"\u001b[39m\u001b[33mError in \u001b[39m\u001b[38;5;132;01m{\u001b[39;00maction\u001b[38;5;132;01m}\u001b[39;00m\u001b[33m: \u001b[39m\u001b[38;5;132;01m{\u001b[39;00mresponse.status_code\u001b[38;5;132;01m}\u001b[39;00m\u001b[33m - \u001b[39m\u001b[38;5;132;01m{\u001b[39;00mresponse.text\u001b[38;5;132;01m}\u001b[39;00m\u001b[33m\"\u001b[39m\n\u001b[32m     67\u001b[39m     )\n\u001b[32m---> \u001b[39m\u001b[32m68\u001b[39m     \u001b[38;5;28;01mraise\u001b[39;00m \u001b[38;5;167;01mException\u001b[39;00m(\n\u001b[32m     69\u001b[39m         \u001b[33mf\u001b[39m\u001b[33m\"\u001b[39m\u001b[33mError in \u001b[39m\u001b[38;5;132;01m{\u001b[39;00maction\u001b[38;5;132;01m}\u001b[39;00m\u001b[33m: \u001b[39m\u001b[38;5;132;01m{\u001b[39;00mresponse.status_code\u001b[38;5;132;01m}\u001b[39;00m\u001b[33m - \u001b[39m\u001b[38;5;132;01m{\u001b[39;00mresponse.text\u001b[38;5;132;01m}\u001b[39;00m\u001b[33m\"\u001b[39m\n\u001b[32m     70\u001b[39m     )\n\u001b[32m     71\u001b[39m \u001b[38;5;28;01mreturn\u001b[39;00m response.json()\n",
      "\u001b[31mException\u001b[39m: Error in update_face: 404 - {\"error\":{\"code\":\"FaceNotFound\",\"message\":\"Face '1fbbb7c1-d6f8-4f97-8e8e-e0d00f207c26' not found.\"}}"
     ]
    }
   ],
   "source": [
    "existing_face_id = \"existing_face_id\"  # The unique ID of the face.\n",
    "\n",
    "# Remove the association of the existing face ID from the person\n",
    "client.update_face(person_directory_id, existing_face_id, person_id=\"\") # The person_id is set to \"\" to remove the association\n",
    "logging.info(f\"Removed association of face_id: {existing_face_id} from the existing person_id\")\n",
    "logging.info(client.get_face(person_directory_id, existing_face_id)) # This will return the face information without the person association\n",
    "\n",
    "# Associate the existing face ID with a person\n",
    "existing_person_id = \"e03cd4a7-ddf5-4702-b446-3893dd2f61ec\"  # The unique ID of the person to be associated with the face.\n",
    "client.update_face(person_directory_id, existing_face_id, person_id=existing_person_id)\n",
    "logging.info(f\"Associated face_id: {existing_face_id} with person_id: {existing_person_id}\")\n",
    "logging.info(client.get_face(person_directory_id, existing_face_id)) # This will return the face information with the new person association"
   ]
  },
  {
   "cell_type": "markdown",
   "id": "9a85ccd1",
   "metadata": {},
   "source": [
    "### Updating metadata (tags and descriptions)\n",
    "You can add or update tags for individual persons, and both descriptions and tags for the Person Directory. These metadata fields help organize, filter, and manage your directory."
   ]
  },
  {
   "cell_type": "code",
   "execution_count": 18,
   "id": "96830b0b",
   "metadata": {},
   "outputs": [
    {
     "name": "stderr",
     "output_type": "stream",
     "text": [
      "INFO:root:Updated Person Directory with description: 'This is a sample person directory for managing faces.' and tags: {'project': 'face_management', 'version': '1.0'}\n",
      "INFO:root:{'personDirectoryId': 'person_directory_id_8523e495', 'description': 'This is a sample person directory for managing faces.', 'tags': {'project': 'face_management', 'version': '1.0'}, 'createdAt': '2025-05-28T08:04:41.920389Z', 'lastModifiedAt': '2025-05-28T08:08:50.779944Z', 'personCount': 4, 'faceCount': 10}\n",
      "INFO:root:Updated person with person_id: e03cd4a7-ddf5-4702-b446-3893dd2f61ec with tags: {'role': 'tester', 'department': 'engineering', 'name': ''}\n",
      "INFO:root:{'personId': 'e03cd4a7-ddf5-4702-b446-3893dd2f61ec', 'tags': {'department': 'engineering', 'role': 'tester'}, 'faceIds': ['30c890c2-d9a2-4c42-808d-831e6f7cb698', '11313a38-0182-43e5-8da0-c961ab46153e', 'e68018da-7cf8-4a4c-9659-d54aac224b4a']}\n"
     ]
    }
   ],
   "source": [
    "# Update the description and tags for the Person Directory\n",
    "person_directory_description = \"This is a sample person directory for managing faces.\"\n",
    "person_directory_tags = {\"project\": \"face_management\", \"version\": \"1.0\"}\n",
    "\n",
    "client.update_person_directory(\n",
    "    person_directory_id,\n",
    "    description=person_directory_description,\n",
    "    tags=person_directory_tags\n",
    ")\n",
    "logging.info(f\"Updated Person Directory with description: '{person_directory_description}' and tags: {person_directory_tags}\")\n",
    "logging.info(client.get_person_directory(person_directory_id)) # This will return the updated person directory information\n",
    "\n",
    "# Update the tags for an individual person\n",
    "existing_person_id = \"e03cd4a7-ddf5-4702-b446-3893dd2f61ec\"  # The unique ID of the person to update.\n",
    "person_tags = {\"role\": \"tester\", \"department\": \"engineering\", \"name\": \"\"} # This will remove the name tag from the person.\n",
    "\n",
    "client.update_person(\n",
    "    person_directory_id,\n",
    "    existing_person_id,\n",
    "    tags=person_tags\n",
    ")\n",
    "logging.info(f\"Updated person with person_id: {existing_person_id} with tags: {person_tags}\")\n",
    "logging.info(client.get_person(person_directory_id, existing_person_id)) # This will return the updated person information"
   ]
  },
  {
   "cell_type": "markdown",
   "id": "a04a7d26",
   "metadata": {},
   "source": [
    "### Deleting a face\n",
    "You can also delete a specific face. Once the face is deleted, the association between the face and its associated person is removed."
   ]
  },
  {
   "cell_type": "code",
   "execution_count": null,
   "id": "da2bb1bd",
   "metadata": {},
   "outputs": [],
   "source": [
    "existing_face_id = \"existing_face_id\" # The unique ID of the face to delete.\n",
    "\n",
    "client.delete_face(person_directory_id, existing_face_id)\n",
    "logging.info(f\"Deleted face with face_id: {existing_face_id}\")"
   ]
  },
  {
   "cell_type": "markdown",
   "id": "2006b5f3",
   "metadata": {},
   "source": [
    "### Deleting a person\n",
    "\n",
    "When a person is deleted from the Person Directory, all the faces associated with that person remain in the Person Directory, but the association between the person and the faces is removed. This means the faces are no longer associated to any person in the Person Directory."
   ]
  },
  {
   "cell_type": "code",
   "execution_count": 20,
   "id": "5d52d34e",
   "metadata": {},
   "outputs": [
    {
     "name": "stderr",
     "output_type": "stream",
     "text": [
      "ERROR:python.content_understanding_face_client:Error in delete_person: 404 - {\"error\":{\"code\":\"PersonNotFound\",\"message\":\"Person 'e03cd4a7-ddf5-4702-b446-3893dd2f61ec' not found.\"}}\n"
     ]
    },
    {
     "ename": "Exception",
     "evalue": "Error in delete_person: 404 - {\"error\":{\"code\":\"PersonNotFound\",\"message\":\"Person 'e03cd4a7-ddf5-4702-b446-3893dd2f61ec' not found.\"}}",
     "output_type": "error",
     "traceback": [
      "\u001b[31m---------------------------------------------------------------------------\u001b[39m",
      "\u001b[31mException\u001b[39m                                 Traceback (most recent call last)",
      "\u001b[36mCell\u001b[39m\u001b[36m \u001b[39m\u001b[32mIn[20]\u001b[39m\u001b[32m, line 3\u001b[39m\n\u001b[32m      1\u001b[39m existing_person_id = \u001b[33m\"\u001b[39m\u001b[33me03cd4a7-ddf5-4702-b446-3893dd2f61ec\u001b[39m\u001b[33m\"\u001b[39m  \u001b[38;5;66;03m# The unique ID of the person to delete.\u001b[39;00m\n\u001b[32m----> \u001b[39m\u001b[32m3\u001b[39m \u001b[43mclient\u001b[49m\u001b[43m.\u001b[49m\u001b[43mdelete_person\u001b[49m\u001b[43m(\u001b[49m\u001b[43mperson_directory_id\u001b[49m\u001b[43m,\u001b[49m\u001b[43m \u001b[49m\u001b[43mexisting_person_id\u001b[49m\u001b[43m)\u001b[49m\n\u001b[32m      4\u001b[39m logging.info(\u001b[33mf\u001b[39m\u001b[33m\"\u001b[39m\u001b[33mDeleted person with person_id: \u001b[39m\u001b[38;5;132;01m{\u001b[39;00mexisting_person_id\u001b[38;5;132;01m}\u001b[39;00m\u001b[33m\"\u001b[39m)\n",
      "\u001b[36mFile \u001b[39m\u001b[32m/workspaces/azure-ai-content-understanding-python/python/content_understanding_face_client.py:211\u001b[39m, in \u001b[36mAzureContentUnderstandingFaceClient.delete_person\u001b[39m\u001b[34m(self, person_directory_id, person_id)\u001b[39m\n\u001b[32m    202\u001b[39m \u001b[38;5;28;01mdef\u001b[39;00m\u001b[38;5;250m \u001b[39m\u001b[34mdelete_person\u001b[39m(\u001b[38;5;28mself\u001b[39m, person_directory_id: \u001b[38;5;28mstr\u001b[39m, person_id: \u001b[38;5;28mstr\u001b[39m):\n\u001b[32m    203\u001b[39m     response = requests.delete(\n\u001b[32m    204\u001b[39m         \u001b[38;5;28mself\u001b[39m._get_person_directory_url(\n\u001b[32m    205\u001b[39m             \u001b[38;5;28mself\u001b[39m._endpoint,\n\u001b[32m   (...)\u001b[39m\u001b[32m    209\u001b[39m         headers=\u001b[38;5;28mself\u001b[39m._headers,\n\u001b[32m    210\u001b[39m     )\n\u001b[32m--> \u001b[39m\u001b[32m211\u001b[39m     \u001b[38;5;28;01mreturn\u001b[39;00m \u001b[38;5;28;43mself\u001b[39;49m\u001b[43m.\u001b[49m\u001b[43m_handle_response\u001b[49m\u001b[43m(\u001b[49m\u001b[43mresponse\u001b[49m\u001b[43m,\u001b[49m\u001b[43m \u001b[49m\u001b[33;43m\"\u001b[39;49m\u001b[33;43mdelete_person\u001b[39;49m\u001b[33;43m\"\u001b[39;49m\u001b[43m)\u001b[49m\n",
      "\u001b[36mFile \u001b[39m\u001b[32m/workspaces/azure-ai-content-understanding-python/python/content_understanding_face_client.py:68\u001b[39m, in \u001b[36mAzureContentUnderstandingFaceClient._handle_response\u001b[39m\u001b[34m(self, response, action)\u001b[39m\n\u001b[32m     64\u001b[39m \u001b[38;5;28;01mif\u001b[39;00m response.status_code != \u001b[32m200\u001b[39m \u001b[38;5;129;01mand\u001b[39;00m response.status_code != \u001b[32m201\u001b[39m:\n\u001b[32m     65\u001b[39m     \u001b[38;5;28mself\u001b[39m._logger.error(\n\u001b[32m     66\u001b[39m         \u001b[33mf\u001b[39m\u001b[33m\"\u001b[39m\u001b[33mError in \u001b[39m\u001b[38;5;132;01m{\u001b[39;00maction\u001b[38;5;132;01m}\u001b[39;00m\u001b[33m: \u001b[39m\u001b[38;5;132;01m{\u001b[39;00mresponse.status_code\u001b[38;5;132;01m}\u001b[39;00m\u001b[33m - \u001b[39m\u001b[38;5;132;01m{\u001b[39;00mresponse.text\u001b[38;5;132;01m}\u001b[39;00m\u001b[33m\"\u001b[39m\n\u001b[32m     67\u001b[39m     )\n\u001b[32m---> \u001b[39m\u001b[32m68\u001b[39m     \u001b[38;5;28;01mraise\u001b[39;00m \u001b[38;5;167;01mException\u001b[39;00m(\n\u001b[32m     69\u001b[39m         \u001b[33mf\u001b[39m\u001b[33m\"\u001b[39m\u001b[33mError in \u001b[39m\u001b[38;5;132;01m{\u001b[39;00maction\u001b[38;5;132;01m}\u001b[39;00m\u001b[33m: \u001b[39m\u001b[38;5;132;01m{\u001b[39;00mresponse.status_code\u001b[38;5;132;01m}\u001b[39;00m\u001b[33m - \u001b[39m\u001b[38;5;132;01m{\u001b[39;00mresponse.text\u001b[38;5;132;01m}\u001b[39;00m\u001b[33m\"\u001b[39m\n\u001b[32m     70\u001b[39m     )\n\u001b[32m     71\u001b[39m \u001b[38;5;28;01mreturn\u001b[39;00m response.json()\n",
      "\u001b[31mException\u001b[39m: Error in delete_person: 404 - {\"error\":{\"code\":\"PersonNotFound\",\"message\":\"Person 'e03cd4a7-ddf5-4702-b446-3893dd2f61ec' not found.\"}}"
     ]
    }
   ],
   "source": [
    "existing_person_id = \"existing_person_id\"  # The unique ID of the person to delete.\n",
    "\n",
    "client.delete_person(person_directory_id, existing_person_id)\n",
    "logging.info(f\"Deleted person with person_id: {existing_person_id}\")"
   ]
  },
  {
   "cell_type": "markdown",
   "id": "c007c6ab",
   "metadata": {},
   "source": [
    "### Deleting a person and their associated faces\n",
    "\n",
    "To completely remove a person and all their associated faces from the Person Directory, you can delete the person along with their face associations. This operation ensures that no residual data related to the person remains in the directory."
   ]
  },
  {
   "cell_type": "code",
   "execution_count": 19,
   "id": "3586f860",
   "metadata": {},
   "outputs": [
    {
     "name": "stderr",
     "output_type": "stream",
     "text": [
      "INFO:root:Deleting face with face_id: 30c890c2-d9a2-4c42-808d-831e6f7cb698 from person_id: e03cd4a7-ddf5-4702-b446-3893dd2f61ec\n",
      "INFO:python.content_understanding_face_client:delete_face completed successfully with status 204.\n",
      "INFO:root:Deleting face with face_id: 11313a38-0182-43e5-8da0-c961ab46153e from person_id: e03cd4a7-ddf5-4702-b446-3893dd2f61ec\n",
      "INFO:python.content_understanding_face_client:delete_face completed successfully with status 204.\n",
      "INFO:root:Deleting face with face_id: e68018da-7cf8-4a4c-9659-d54aac224b4a from person_id: e03cd4a7-ddf5-4702-b446-3893dd2f61ec\n",
      "INFO:python.content_understanding_face_client:delete_face completed successfully with status 204.\n",
      "INFO:python.content_understanding_face_client:delete_person completed successfully with status 204.\n",
      "INFO:root:Deleted person with person_id: e03cd4a7-ddf5-4702-b446-3893dd2f61ec and all associated faces.\n"
     ]
    }
   ],
   "source": [
    "existing_person_id = \"existing_person_id\"  # The unique ID of the person to delete.\n",
    "\n",
    "# Get the list of face IDs associated with the person\n",
    "response = client.get_person(person_directory_id, existing_person_id)\n",
    "face_ids = response.get('faceIds', [])\n",
    "\n",
    "# Delete each face associated with the person\n",
    "for face_id in face_ids:\n",
    "    logging.info(f\"Deleting face with face_id: {face_id} from person_id: {existing_person_id}\")\n",
    "    client.delete_face(person_directory_id, face_id)\n",
    "\n",
    "# Delete the person after deleting all associated faces\n",
    "client.delete_person(person_directory_id, existing_person_id)\n",
    "logging.info(f\"Deleted person with person_id: {existing_person_id} and all associated faces.\")"
   ]
  }
 ],
 "metadata": {
  "kernelspec": {
   "display_name": "Python 3",
   "language": "python",
   "name": "python3"
  },
  "language_info": {
   "codemirror_mode": {
    "name": "ipython",
    "version": 3
   },
   "file_extension": ".py",
   "mimetype": "text/x-python",
   "name": "python",
   "nbconvert_exporter": "python",
   "pygments_lexer": "ipython3",
   "version": "3.11.12"
  }
 },
 "nbformat": 4,
 "nbformat_minor": 5
}
