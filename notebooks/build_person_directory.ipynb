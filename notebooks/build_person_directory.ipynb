{
 "cells": [
  {
   "cell_type": "markdown",
   "id": "759f9ec0",
   "metadata": {},
   "source": [
    "# Person Directory"
   ]
  },
  {
   "cell_type": "markdown",
   "id": "61534b8b",
   "metadata": {},
   "source": [
    "## Objective\n",
    "\n",
    " This notebook demonstrates how to identify faces in an image against a known set of persons. It begins by building a Person Directory, where each subfolder in a specified directory represents an individual. For each subfolder, a person is created and all face images within it are enrolled to that person.\n",
    "\n",
    "| Enrollment | Searching |\n",
    "| :-: | :-: |\n",
    "| ![PD_enrollment.png](https://media.githubusercontent.com/media/Azure-Samples/azure-ai-content-understanding-python/refs/heads/zhizho/face/data/face/PD_enrollment.png) | ![PD_searching.png](https://media.githubusercontent.com/media/Azure-Samples/azure-ai-content-understanding-python/refs/heads/zhizho/face/data/face/PD_searching.png) |"
   ]
  },
  {
   "cell_type": "markdown",
   "id": "80a375ca",
   "metadata": {},
   "source": [
    "## Create Azure content understanding face client\n",
    "> The [AzureContentUnderstandingFaceClient](../python/content_understanding_face_client.py) is a utility class for interacting with the Content Understanding Face service. Before the official SDK is released, this acts as a lightweight SDK. Set the constants **AZURE_AI_ENDPOINT**, **AZURE_AI_API_VERSION**, and **AZURE_AI_API_KEY** with your Azure AI Service information.\n",
    "\n",
    "> ⚠️ Important:\n",
    "You must update the code below to match your Azure authentication method.\n",
    "Look for the `# IMPORTANT` comments and modify those sections accordingly.\n",
    "If you skip this step, the sample may not run correctly.\n",
    "\n",
    "> ⚠️ Note: Using a subscription key works, but using a token provider with Azure Active Directory (AAD) is much safer and is highly recommended for production environments."
   ]
  },
  {
   "cell_type": "code",
   "execution_count": null,
   "id": "a5b1fa11",
   "metadata": {},
   "outputs": [],
   "source": [
    "import logging\n",
    "import os\n",
    "import uuid\n",
    "import sys\n",
    "from dotenv import load_dotenv\n",
    "from azure.core.credentials import AzureKeyCredential\n",
    "from azure.identity.aio import DefaultAzureCredential\n",
    "from azure.ai.contentunderstanding.aio import ContentUnderstandingClient\n",
    "from azure.ai.contentunderstanding.models import PersonDirectory, FaceSource\n",
    "from sample_helper import (\n",
    "    read_image_to_base64,\n",
    "    read_image_to_base64_bytes\n",
    ")\n",
    "\n",
    "# Add the parent directory to the Python path to import the sample_helper module\n",
    "sys.path.append(os.path.join(os.path.dirname(os.getcwd()), 'python'))\n",
    "\n",
    "load_dotenv()\n",
    "logging.basicConfig(level=logging.INFO)\n",
    "\n",
    "endpoint = os.environ.get(\"AZURE_CONTENT_UNDERSTANDING_ENDPOINT\")\n",
    "# Return AzureKeyCredential if AZURE_CONTENT_UNDERSTANDING_KEY is set, otherwise DefaultAzureCredential\n",
    "key = os.getenv(\"AZURE_CONTENT_UNDERSTANDING_KEY\")\n",
    "credential = AzureKeyCredential(key) if key else DefaultAzureCredential()\n",
    "# Create the ContentUnderstandingClient\n",
    "client = ContentUnderstandingClient(endpoint=endpoint, credential=credential)"
   ]
  },
  {
   "cell_type": "markdown",
   "id": "c76fa3c2",
   "metadata": {},
   "source": [
    "## Build a Person Directory"
   ]
  },
  {
   "cell_type": "code",
   "execution_count": null,
   "id": "821406a6",
   "metadata": {},
   "outputs": [],
   "source": [
    "folder_path = \"../data/face/enrollment_data\"  # Replace with the path to your folder containing subfolders of images\n",
    "\n",
    "# Create a person directory\n",
    "person_directory_id = f\"person_directory_id_{uuid.uuid4().hex[:8]}\"\n",
    "\n",
    "# Create a person directory first\n",
    "print(f\"🔧 Creating person directory '{person_directory_id}'...\")\n",
    "\n",
    "person_directory = PersonDirectory(\n",
    "            description=f\"Sample person directory for delete person demo: {person_directory_id}\",\n",
    "            tags={\"demo_type\": \"delete_person\"},\n",
    "        )\n",
    "person_directory = await client.person_directories.create(person_directory_id, resource=person_directory)\n",
    "logging.info(f\"Created person directory with ID: {person_directory_id}\")\n",
    "\n",
    "# Initialize persons list\n",
    "persons: list = []\n",
    "\n",
    "# Iterate through all subfolders in the folder_path\n",
    "for subfolder_name in os.listdir(folder_path):\n",
    "    subfolder_path = os.path.join(folder_path, subfolder_name)\n",
    "    if os.path.isdir(subfolder_path):\n",
    "        person_name = subfolder_name\n",
    "        # Add a person for each subfolder\n",
    "        person = await client.person_directories.add_person(person_directory_id, tags={\"name\": person_name})\n",
    "        print(f\"🔧 Creating person '{person_name}'...\")\n",
    "        logging.info(f\"Created person {person_name} with person_id: {person['personId']}\")\n",
    "        if person:\n",
    "            # Initialize person entry in persons list\n",
    "            person_entry = {\n",
    "                'personId': person['personId'],\n",
    "                'name': person_name,\n",
    "                'faceIds': []\n",
    "            }\n",
    "\n",
    "            # Iterate through all images in the subfolder\n",
    "            for filename in os.listdir(subfolder_path):\n",
    "                if filename.lower().endswith(('.png', '.jpg', '.jpeg')):\n",
    "                    image_path = os.path.join(subfolder_path, filename)\n",
    "                    # Convert image to base64\n",
    "                    image_data = read_image_to_base64(image_path)\n",
    "                    # Add a face to the Person Directory and associate it to the added person\n",
    "                    print(f\"🔧 Adding face from image '{image_path}' to person '{person_name}'...\")\n",
    "                    print(f\"Image Data: \", image_data)\n",
    "                    face = await client.person_directories.add_face(\n",
    "                        person_directory_id=person_directory_id, \n",
    "                        body={\n",
    "                            \"faceSource\": { \"data\": image_data },\n",
    "                            \"personId\": person['personId']\n",
    "                        }\n",
    "                    )\n",
    "                    if face:\n",
    "                        logging.info(f\"Added face from {filename} with face_id: {face['faceId']} to person_id: {person['personId']}\")\n",
    "                    else:\n",
    "                        logging.warning(f\"Failed to add face from {filename} to person_id: {person['personId']}\")\n",
    "\n",
    "            # Add person entry to persons list\n",
    "            persons.append(person_entry)\n",
    "\n",
    "logging.info(\"Done\")\n",
    "logging.info(f\"Created {len(persons)} persons:\")\n",
    "for person in persons:\n",
    "    logging.info(f\"Person: {person['name']} (ID: {person['personId']}) with {len(person['faceIds'])} faces\")"
   ]
  },
  {
   "cell_type": "markdown",
   "id": "6a5a058c",
   "metadata": {},
   "source": [
    "### Identifying person\n",
    "Detect multiple faces in an image and identify each one by matching it against enrolled persons in the Person Directory."
   ]
  },
  {
   "cell_type": "code",
   "execution_count": null,
   "id": "1d83524f",
   "metadata": {},
   "outputs": [],
   "source": [
    "test_image_path = \"../data/face/family.jpg\"  # Path to the test image\n",
    "\n",
    "# Detect faces in the test image\n",
    "image_data = read_image_to_base64(test_image_path)\n",
    "detected_faces = await client.faces.detect(data=image_data)\n",
    "for face in detected_faces['detectedFaces']:\n",
    "    identified_persons = await client.person_directories.identify_person(person_directory_id, image_data, face['boundingBox'])\n",
    "    if identified_persons.get(\"personCandidates\"):\n",
    "        person = identified_persons[\"personCandidates\"][0]\n",
    "        name = person.get(\"tags\", {}).get(\"name\", \"Unknown\")\n",
    "        logging.info(f\"Detected person: {name} with confidence: {person.get('confidence', 0)} at bounding box: {face['boundingBox']}\")\n",
    "\n",
    "logging.info(\"Done\")"
   ]
  },
  {
   "cell_type": "markdown",
   "id": "de736d94",
   "metadata": {},
   "source": [
    "### Adding and associating a new face\n",
    "You can add a new face to the Person Directory and associate it with an existing person."
   ]
  },
  {
   "cell_type": "code",
   "execution_count": null,
   "id": "19fe3aff",
   "metadata": {},
   "outputs": [],
   "source": [
    "person_bill = next(person for person in persons if person['name'] == 'Bill')\n",
    "new_face_image_path = \"../data/face/new_face_image.jpg\" # The path to the face image you want to add.\n",
    "existing_person_id = person_bill['personId'] # The unique ID of the person to whom the face should be associated.\n",
    "\n",
    "# Convert the new face image to base64\n",
    "image_data = read_image_to_base64(new_face_image_path)\n",
    "# Add the new face to the person directory and associate it with the existing person\n",
    "face = await client.person_directories.add_face(person_directory_id, image_data, existing_person_id)\n",
    "if face:\n",
    "    logging.info(f\"Added face from {new_face_image_path} with face_id: {face['faceId']} to person_id: {existing_person_id}\")\n",
    "else:\n",
    "    logging.warning(f\"Failed to add face from {new_face_image_path} to person_id: {existing_person_id}\")"
   ]
  },
  {
   "cell_type": "markdown",
   "id": "65b0cafa",
   "metadata": {},
   "source": [
    "### Associating a list of already enrolled faces\n",
    "\n",
    "You can associate a list of already enrolled faces in the Person Directory with their respective persons. This is useful if you have existing face IDs to link to specific persons."
   ]
  },
  {
   "cell_type": "code",
   "execution_count": null,
   "id": "af5de3d5",
   "metadata": {},
   "outputs": [],
   "source": [
    "existing_person_id = person_bill['personId']  # The unique ID of the person to whom the face should be associated.\n",
    "existing_face_id_list = [person_bill['faceIds'][0], person_bill['faceIds'][1], person_bill['faceIds'][2]]  # The list of face IDs to be associated.\n",
    "\n",
    "# Associate the existing face IDs with the existing person\n",
    "await client.person_directories.update_person(person_directory_id, existing_person_id, face_ids=existing_face_id_list)"
   ]
  },
  {
   "cell_type": "markdown",
   "id": "873574f7",
   "metadata": {},
   "source": [
    "### Associating and disassociating a face from a person\n",
    "You can associate or disassociate a face from a person in the Person Directory. Associating a face links it to a specific person, while disassociating removes this link."
   ]
  },
  {
   "cell_type": "code",
   "execution_count": null,
   "id": "03e5f0eb",
   "metadata": {},
   "outputs": [],
   "source": [
    "person_mary = next(person for person in persons if person['name'] == 'Mary')\n",
    "existing_face_id = person_mary['faceIds'][0]  # The unique ID of the face.\n",
    "\n",
    "# Remove the association of the existing face ID from the person\n",
    "await client.person_directories.update_face(person_directory_id, existing_face_id, person_id=\"\") # The person_id is set to \"\" to remove the association\n",
    "logging.info(f\"Removed association of face_id: {existing_face_id} from the existing person_id\")\n",
    "logging.info(await client.person_directories.get_face(person_directory_id, existing_face_id)) # This will return the face information without the person association\n",
    "\n",
    "# Associate the existing face ID with a person\n",
    "existing_person_id = \"existing_person_id\"  # The unique ID of the person to be associated with the face.\n",
    "await client.person_directories.update_face(person_directory_id, existing_face_id, person_id=existing_person_id)\n",
    "logging.info(f\"Associated face_id: {existing_face_id} with person_id: {existing_person_id}\")\n",
    "logging.info(await client.person_directories.get_face(person_directory_id, existing_face_id)) # This will return the face information with the new person association"
   ]
  },
  {
   "cell_type": "markdown",
   "id": "9a85ccd1",
   "metadata": {},
   "source": [
    "### Updating metadata (tags and descriptions)\n",
    "You can add or update tags for individual persons, and both descriptions and tags for the Person Directory. These metadata fields help organize, filter, and manage your directory."
   ]
  },
  {
   "cell_type": "code",
   "execution_count": null,
   "id": "96830b0b",
   "metadata": {},
   "outputs": [],
   "source": [
    "# Update the description and tags for the Person Directory\n",
    "person_directory_description = \"This is a sample person directory for managing faces.\"\n",
    "person_directory_tags = {\"project\": \"face_management\", \"version\": \"1.0\"}\n",
    "\n",
    "await client.person_directories.update(\n",
    "    person_directory_id,\n",
    "    description=person_directory_description,\n",
    "    tags=person_directory_tags\n",
    ")\n",
    "logging.info(f\"Updated Person Directory with description: '{person_directory_description}' and tags: {person_directory_tags}\")\n",
    "logging.info(await client.person_directories.get(person_directory_id)) # This will return the updated person directory information\n",
    "\n",
    "# Update the tags for an individual person\n",
    "existing_person_id = \"existing_person_id\"  # The unique ID of the person to update.\n",
    "person_tags = {\"role\": \"tester\", \"department\": \"engineering\", \"name\": \"\"} # This will remove the name tag from the person.\n",
    "\n",
    "await client.person_directories.update_person(\n",
    "    person_directory_id,\n",
    "    existing_person_id,\n",
    "    tags=person_tags\n",
    ")\n",
    "logging.info(f\"Updated person with person_id: {existing_person_id} with tags: {person_tags}\")\n",
    "logging.info(await client.person_directories.get_person(person_directory_id, existing_person_id)) # This will return the updated person information"
   ]
  },
  {
   "cell_type": "markdown",
   "id": "a04a7d26",
   "metadata": {},
   "source": [
    "### Deleting a face\n",
    "You can also delete a specific face. Once the face is deleted, the association between the face and its associated person is removed."
   ]
  },
  {
   "cell_type": "code",
   "execution_count": null,
   "id": "da2bb1bd",
   "metadata": {},
   "outputs": [],
   "source": [
    "existing_face_id = person_mary['faceIds'][0] # The unique ID of the face to delete.\n",
    "\n",
    "await client.person_directories.delete_face(person_directory_id, existing_face_id)\n",
    "logging.info(f\"Deleted face with face_id: {existing_face_id}\")"
   ]
  },
  {
   "cell_type": "markdown",
   "id": "2006b5f3",
   "metadata": {},
   "source": [
    "### Deleting a person\n",
    "\n",
    "When a person is deleted from the Person Directory, all the faces associated with that person remain in the Person Directory, but the association between the person and the faces is removed. This means the faces are no longer associated to any person in the Person Directory."
   ]
  },
  {
   "cell_type": "code",
   "execution_count": null,
   "id": "5d52d34e",
   "metadata": {},
   "outputs": [],
   "source": [
    "existing_person_id = person_mary['personId']  # The unique ID of the person to delete.\n",
    "\n",
    "await client.person_directories.delete_person(person_directory_id, existing_person_id)\n",
    "logging.info(f\"Deleted person with person_id: {existing_person_id}\")"
   ]
  },
  {
   "cell_type": "markdown",
   "id": "c007c6ab",
   "metadata": {},
   "source": [
    "### Deleting a person and their associated faces\n",
    "\n",
    "To completely remove a person and all their associated faces from the Person Directory, you can delete the person along with their face associations. This operation ensures that no residual data related to the person remains in the directory."
   ]
  },
  {
   "cell_type": "code",
   "execution_count": null,
   "id": "3586f860",
   "metadata": {},
   "outputs": [],
   "source": [
    "existing_person_id = person_bill['personId']  # The unique ID of the person to delete.\n",
    "\n",
    "# Get the list of face IDs associated with the person\n",
    "response = await client.person_directories.get_person(person_directory_id, existing_person_id)\n",
    "face_ids = response.get('faceIds', [])\n",
    "\n",
    "# Delete each face associated with the person\n",
    "for face_id in face_ids:\n",
    "    logging.info(f\"Deleting face with face_id: {face_id} from person_id: {existing_person_id}\")\n",
    "    await client.person_directories.delete_face(person_directory_id, face_id)\n",
    "\n",
    "# Delete the person after deleting all associated faces\n",
    "await client.person_directories.delete_person(person_directory_id, existing_person_id)\n",
    "logging.info(f\"Deleted person with person_id: {existing_person_id} and all associated faces.\")"
   ]
  }
 ],
 "metadata": {
  "kernelspec": {
   "display_name": ".venv",
   "language": "python",
   "name": "python3"
  },
  "language_info": {
   "codemirror_mode": {
    "name": "ipython",
    "version": 3
   },
   "file_extension": ".py",
   "mimetype": "text/x-python",
   "name": "python",
   "nbconvert_exporter": "python",
   "pygments_lexer": "ipython3",
   "version": "3.12.3"
  }
 },
 "nbformat": 4,
 "nbformat_minor": 5
}
