{
 "cells": [
  {
   "cell_type": "markdown",
   "metadata": {},
   "source": [
    "# Extract Custom Fields from Your File"
   ]
  },
  {
   "cell_type": "markdown",
   "metadata": {},
   "source": [
    "This notebook demonstrates how to use analyzers to extract custom fields from your input files."
   ]
  },
  {
   "cell_type": "markdown",
   "metadata": {},
   "source": [
    "## Prerequisites\n",
    "1. Ensure Azure AI service is configured following [steps](../README.md#configure-azure-ai-service-resource)\n",
    "2. Install the required packages to run the sample."
   ]
  },
  {
   "cell_type": "code",
   "execution_count": null,
   "metadata": {},
   "outputs": [],
   "source": [
    "%pip install -r ../requirements.txt"
   ]
  },
  {
   "cell_type": "markdown",
   "metadata": {},
   "source": [
    "## Analyzer Templates"
   ]
  },
  {
   "cell_type": "markdown",
   "metadata": {},
   "source": [
    "Below is a collection of analyzer templates designed to extract fields from various input file types.\n",
    "\n",
    "These templates are highly customizable, allowing you to modify them to suit your specific needs. For additional verified templates from Microsoft, please visit [here](../analyzer_templates/README.md)."
   ]
  },
  {
   "cell_type": "code",
   "execution_count": 1,
   "metadata": {},
   "outputs": [],
   "source": [
    "extraction_templates = {\n",
    "    \"invoice\":            ('../analyzer_templates/invoice.json',         '../data/invoice.pdf'            ),\n",
    "    \"chart\":              ('../analyzer_templates/image_chart.json',     '../data/pieChart.jpg'           ),\n",
    "    \"call_recording\":     ('../analyzer_templates/call_recording_analytics.json', '../data/callCenterRecording.mp3'),\n",
    "    \"conversation_audio\": ('../analyzer_templates/conversational_audio_analytics.json', '../data/callCenterRecording.mp3'),\n",
    "    \"marketing_video\":    ('../analyzer_templates/marketing_video.json', '../data/FlightSimulator.mp4'              ),\n",
    "    \"call_recording_pretranscribe_batch\": ('../analyzer_templates/call_recording_analytics_text.json', '../data/batch_pretranscribed.json'),\n",
    "    \"call_recording_pretranscribe_fast\": ('../analyzer_templates/call_recording_analytics_text.json', '../data/fast_pretranscribed.json'),\n",
    "    \"call_recording_pretranscribe_cu\": ('../analyzer_templates/call_recording_analytics_text.json', '../data/cu_pretranscribed.json')\n",
    "}"
   ]
  },
  {
   "cell_type": "markdown",
   "metadata": {},
   "source": [
    "Specify the analyzer template you want to use and provide a name for the analyzer to be created based on the template."
   ]
  },
  {
   "cell_type": "code",
   "execution_count": 4,
   "metadata": {},
   "outputs": [],
   "source": [
    "import uuid\n",
    "\n",
    "# ANALYZER_TEMPLATE = \"invoice\"\n",
    "ANALYZER_TEMPLATE = \"call_recording_pretranscribe_batch\"\n",
    "ANALYZER_ID = \"field-extraction-sample-\" + str(uuid.uuid4())\n",
    "\n",
    "(analyzer_template_path, analyzer_sample_file_path) = extraction_templates[ANALYZER_TEMPLATE]"
   ]
  },
  {
   "cell_type": "markdown",
   "metadata": {},
   "source": [
    "## Create Azure AI Content Understanding Client\n",
    "\n",
    "> The [AzureContentUnderstandingClient](../python/content_understanding_client.py) is a utility class containing functions to interact with the Content Understanding API. Before the official release of the Content Understanding SDK, it can be regarded as a lightweight SDK.\n"
   ]
  },
  {
   "cell_type": "code",
   "execution_count": 2,
   "metadata": {},
   "outputs": [
    {
     "name": "stderr",
     "output_type": "stream",
     "text": [
      "INFO:azure.identity._credentials.environment:No environment configuration found.\n",
      "INFO:azure.identity._credentials.managed_identity:ManagedIdentityCredential will use IMDS\n",
      "INFO:azure.core.pipeline.policies.http_logging_policy:Request URL: 'http://169.254.169.254/metadata/identity/oauth2/token?api-version=REDACTED&resource=REDACTED'\n",
      "Request method: 'GET'\n",
      "Request headers:\n",
      "    'User-Agent': 'azsdk-python-identity/1.17.1 Python/3.12.9 (Windows-11-10.0.26100-SP0)'\n",
      "No body was attached to the request\n",
      "INFO:azure.identity._credentials.chained:DefaultAzureCredential acquired a token from AzureCliCredential\n"
     ]
    }
   ],
   "source": [
    "import logging\n",
    "import json\n",
    "import os\n",
    "import sys\n",
    "from pathlib import Path\n",
    "from dotenv import find_dotenv, load_dotenv\n",
    "from azure.identity import DefaultAzureCredential, get_bearer_token_provider\n",
    "\n",
    "load_dotenv(find_dotenv())\n",
    "logging.basicConfig(level=logging.INFO)\n",
    "\n",
    "AZURE_AI_ENDPOINT = os.getenv(\"AZURE_AI_ENDPOINT\")\n",
    "AZURE_AI_API_VERSION = os.getenv(\"AZURE_AI_API_VERSION\", \"2024-12-01-preview\")\n",
    "\n",
    "# Add the parent directory to the path to use shared modules\n",
    "parent_dir = Path(Path.cwd()).parent\n",
    "sys.path.append(str(parent_dir))\n",
    "from python.content_understanding_client import AzureContentUnderstandingClient\n",
    "\n",
    "credential = DefaultAzureCredential()\n",
    "token_provider = get_bearer_token_provider(credential, \"https://cognitiveservices.azure.com/.default\")\n",
    "\n",
    "client = AzureContentUnderstandingClient(\n",
    "    endpoint=AZURE_AI_ENDPOINT,\n",
    "    api_version=AZURE_AI_API_VERSION,\n",
    "    token_provider=token_provider,\n",
    "    # x_ms_useragent=\"azure-ai-content-understanding-python/field_extraction\", # This header is used for sample usage telemetry, please comment out this line if you want to opt out.\n",
    ")"
   ]
  },
  {
   "cell_type": "markdown",
   "metadata": {},
   "source": [
    "## Create Analyzer from the Template"
   ]
  },
  {
   "cell_type": "code",
   "execution_count": 5,
   "metadata": {},
   "outputs": [
    {
     "name": "stderr",
     "output_type": "stream",
     "text": [
      "INFO:python.content_understanding_client:Analyzer field-extraction-sample-24885356-78f0-4bca-9a60-e13b11b11831 create request accepted.\n",
      "INFO:python.content_understanding_client:Request result is ready after 0.00 seconds.\n"
     ]
    },
    {
     "name": "stdout",
     "output_type": "stream",
     "text": [
      "{\n",
      "  \"id\": \"b84d8ce6-83a2-4cde-98c5-0eef3c17df96\",\n",
      "  \"status\": \"Succeeded\",\n",
      "  \"result\": {\n",
      "    \"analyzerId\": \"field-extraction-sample-24885356-78f0-4bca-9a60-e13b11b11831\",\n",
      "    \"description\": \"Sample call recording analytics\",\n",
      "    \"createdAt\": \"2025-02-05T19:56:38Z\",\n",
      "    \"lastModifiedAt\": \"2025-02-05T19:56:38Z\",\n",
      "    \"config\": {\n",
      "      \"returnDetails\": false\n",
      "    },\n",
      "    \"fieldSchema\": {\n",
      "      \"fields\": {\n",
      "        \"Summary\": {\n",
      "          \"type\": \"string\",\n",
      "          \"method\": \"generate\",\n",
      "          \"description\": \"A one-paragraph summary\"\n",
      "        },\n",
      "        \"Topics\": {\n",
      "          \"type\": \"array\",\n",
      "          \"method\": \"generate\",\n",
      "          \"description\": \"Top 5 topics mentioned\",\n",
      "          \"items\": {\n",
      "            \"type\": \"string\"\n",
      "          }\n",
      "        },\n",
      "        \"Companies\": {\n",
      "          \"type\": \"array\",\n",
      "          \"method\": \"generate\",\n",
      "          \"description\": \"List of companies mentioned\",\n",
      "          \"items\": {\n",
      "            \"type\": \"string\"\n",
      "          }\n",
      "        },\n",
      "        \"People\": {\n",
      "          \"type\": \"array\",\n",
      "          \"method\": \"generate\",\n",
      "          \"description\": \"List of people mentioned\",\n",
      "          \"items\": {\n",
      "            \"type\": \"object\",\n",
      "            \"properties\": {\n",
      "              \"Name\": {\n",
      "                \"type\": \"string\",\n",
      "                \"description\": \"Person's name\"\n",
      "              },\n",
      "              \"Role\": {\n",
      "                \"type\": \"string\",\n",
      "                \"description\": \"Person's title/role\"\n",
      "              }\n",
      "            }\n",
      "          }\n",
      "        },\n",
      "        \"Sentiment\": {\n",
      "          \"type\": \"string\",\n",
      "          \"method\": \"classify\",\n",
      "          \"description\": \"Overall sentiment\",\n",
      "          \"enum\": [\n",
      "            \"Positive\",\n",
      "            \"Neutral\",\n",
      "            \"Negative\"\n",
      "          ]\n",
      "        },\n",
      "        \"Categories\": {\n",
      "          \"type\": \"array\",\n",
      "          \"method\": \"classify\",\n",
      "          \"description\": \"List of relevant categories\",\n",
      "          \"items\": {\n",
      "            \"type\": \"string\",\n",
      "            \"enum\": [\n",
      "              \"Agriculture\",\n",
      "              \"Business\",\n",
      "              \"Finance\",\n",
      "              \"Health\",\n",
      "              \"Insurance\",\n",
      "              \"Mining\",\n",
      "              \"Pharmaceutical\",\n",
      "              \"Retail\",\n",
      "              \"Technology\",\n",
      "              \"Transportation\"\n",
      "            ]\n",
      "          }\n",
      "        }\n",
      "      }\n",
      "    },\n",
      "    \"warnings\": [],\n",
      "    \"status\": \"ready\",\n",
      "    \"scenario\": \"text\"\n",
      "  }\n",
      "}\n"
     ]
    }
   ],
   "source": [
    "response = client.begin_create_analyzer(ANALYZER_ID, analyzer_template_path=analyzer_template_path)\n",
    "result = client.poll_result(response)\n",
    "\n",
    "print(json.dumps(result, indent=2))"
   ]
  },
  {
   "cell_type": "markdown",
   "metadata": {},
   "source": [
    "## Extract Fields Using the Analyzer"
   ]
  },
  {
   "cell_type": "markdown",
   "metadata": {},
   "source": [
    "After the analyzer is successfully created, we can use it to analyze our input files."
   ]
  },
  {
   "cell_type": "code",
   "execution_count": null,
   "metadata": {},
   "outputs": [],
   "source": [
    "response = client.begin_analyze(ANALYZER_ID, file_location=analyzer_sample_file_path)\n",
    "result = client.poll_result(response)\n",
    "\n",
    "print(json.dumps(result, indent=2))"
   ]
  },
  {
   "cell_type": "code",
   "execution_count": 6,
   "metadata": {},
   "outputs": [
    {
     "name": "stdout",
     "output_type": "stream",
     "text": [
      "Load transcription completed.\n",
      "processing a fast transcription file.\n",
      "Fast to WebVTT Conversion completed.\n",
      "Conversion completed. The result has been saved to '..\\data\\output\\convertedTowebVTT.txt'\n"
     ]
    },
    {
     "name": "stderr",
     "output_type": "stream",
     "text": [
      "INFO:python.content_understanding_client:Analyzing file ..\\data\\output\\convertedTowebVTT.txt with analyzer: field-extraction-sample-24885356-78f0-4bca-9a60-e13b11b11831\n",
      "INFO:python.content_understanding_client:Request c1c8fbd0-75d4-4ce2-89fe-f03761eb4378 in progress ...\n",
      "INFO:python.content_understanding_client:Request result is ready after 2.90 seconds.\n"
     ]
    },
    {
     "name": "stdout",
     "output_type": "stream",
     "text": [
      "{\n",
      "  \"id\": \"c1c8fbd0-75d4-4ce2-89fe-f03761eb4378\",\n",
      "  \"status\": \"Succeeded\",\n",
      "  \"result\": {\n",
      "    \"analyzerId\": \"field-extraction-sample-24885356-78f0-4bca-9a60-e13b11b11831\",\n",
      "    \"apiVersion\": \"2024-12-01-preview\",\n",
      "    \"createdAt\": \"2025-02-05T19:56:59Z\",\n",
      "    \"warnings\": [],\n",
      "    \"contents\": [\n",
      "      {\n",
      "        \"markdown\": \"```\\nWEBVTT\\r\\n\\r\\n00:00:00.080 --> 00:00:02.240\\r\\n<v Speaker 1>Hi there, thank you for calling Contoso.\\r\\n\\r\\n00:00:02.240 --> 00:00:03.200\\r\\n<v Speaker 1>My name is Sam.\\r\\n\\r\\n00:00:03.440 --> 00:00:04.720\\r\\n<v Speaker 1>How can I help you today?\\r\\n\\r\\n00:00:05.520 --> 00:00:07.680\\r\\n<v Speaker 2>Good afternoon, my name is Mary Adams.\\r\\n\\r\\n00:00:08.560 --> 00:00:10.720\\r\\n<v Speaker 2>I want to buy life insurance for my husband.\\r\\n\\r\\n00:00:11.520 --> 00:00:13.520\\r\\n<v Speaker 2>Can you please tell me how much it costs?\\r\\n\\r\\n00:00:14.400 --> 00:00:17.200\\r\\n<v Speaker 1>I'm going to help you right now with your life insurance needs.\\r\\n\\r\\n00:00:18.080 --> 00:00:19.760\\r\\n<v Speaker 1>Are you the owner of the policy?\\r\\n\\r\\n00:00:20.560 --> 00:00:28.960\\r\\n<v Speaker 2>My husband and I are the owners of the policy, so I will be paying for the policy myself, but I want him to be protected in case something happens to me.\\r\\n\\r\\n00:00:29.840 --> 00:00:30.120\\r\\n<v Speaker 1>Good.\\r\\n\\r\\n00:00:30.120 --> 00:00:32.320\\r\\n<v Speaker 1>What type of policy are you looking for?\\r\\n\\r\\n00:00:33.200 --> 00:00:36.720\\r\\n<v Speaker 1>We have term life, whole life, universal life, etc.\\r\\n\\r\\n00:00:37.520 --> 00:00:44.560\\r\\n<v Speaker 2>Term would be perfect for us, but can you please tell me how much the monthly payment would be for term life with $500,000 of coverage?\\r\\n\\r\\n00:00:45.360 --> 00:00:53.440\\r\\n<v Speaker 1>If you pay $30 each month, your husband will be insured for a total of $500,000 of coverage with a monthly premium of $30.\\r\\n\\r\\n00:00:54.320 --> 00:00:56.320\\r\\n<v Speaker 2>How often would we have to pay this premium?\\r\\n\\r\\n00:00:57.200 --> 00:01:04.240\\r\\n<v Speaker 1>You will pay this premium every month until you reach age 100 or your husband dies, whichever happens first.\\r\\n\\r\\n00:01:05.040 --> 00:01:10.000\\r\\n<v Speaker 1>Would you like to schedule a payment date so that your husband can start receiving his insurance coverage?\\r\\n\\r\\n00:01:10.880 --> 00:01:11.280\\r\\n<v Speaker 2>Yes.\\r\\n\\r\\n00:01:11.280 --> 00:01:12.720\\r\\n<v Speaker 2>How soon can you schedule it?\\r\\n\\r\\n00:01:13.520 --> 00:01:16.640\\r\\n<v Speaker 1>Let me see if there are any open dates for today or tomorrow.\\r\\n\\r\\n00:01:17.520 --> 00:01:18.560\\r\\n<v Speaker 1>Would that work for you?\\r\\n\\r\\n00:01:19.440 --> 00:01:20.640\\r\\n<v Speaker 2>That is fine with me.\\r\\n\\r\\n00:01:21.440 --> 00:01:22.160\\r\\n<v Speaker 1>OK, Mrs.\\r\\n\\r\\n00:01:22.160 --> 00:01:26.000\\r\\n<v Speaker 1>Adams, I have an opening tomorrow morning at 10:00 AM and 1:00 PM.\\r\\n\\r\\n00:01:26.880 --> 00:01:28.720\\r\\n<v Speaker 1>Would either of those times work for you?\\r\\n\\r\\n00:01:29.600 --> 00:01:31.040\\r\\n<v Speaker 2>Yes, I can do 10 a.m.\\r\\n\\r\\n00:01:31.040 --> 00:01:31.920\\r\\n<v Speaker 2>tomorrow morning.\\r\\n\\r\\n00:01:32.720 --> 00:01:33.200\\r\\n<v Speaker 1>Great.\\r\\n\\r\\n00:01:34.080 --> 00:01:36.960\\r\\n<v Speaker 1>I will call you tomorrow morning at 9:45 a.m.\\r\\n\\r\\n00:01:36.960 --> 00:01:39.840\\r\\n<v Speaker 1>with payment instructions and confirmation information.\\r\\n\\r\\n00:01:40.640 --> 00:01:41.520\\r\\n<v Speaker 1>Is that okay?\\r\\n\\r\\n00:01:42.400 --> 00:01:43.520\\r\\n<v Speaker 2>That sounds great.\\r\\n\\r\\n00:01:44.320 --> 00:01:47.200\\r\\n<v Speaker 2>I'll talk to you tomorrow morning at 9:45 a.m.\\r\\n\\n```\",\n",
      "        \"fields\": {\n",
      "          \"Sentiment\": {\n",
      "            \"type\": \"string\",\n",
      "            \"valueString\": \"Positive\"\n",
      "          },\n",
      "          \"Summary\": {\n",
      "            \"type\": \"string\",\n",
      "            \"valueString\": \"Mary Adams calls Contoso to inquire about purchasing a term life insurance policy for her husband. Sam, the customer service representative, provides details about a $500,000 coverage policy with a $30 monthly premium. They schedule a follow-up call for payment instructions and confirmation the next morning at 9:45 a.m.\"\n",
      "          },\n",
      "          \"Categories\": {\n",
      "            \"type\": \"array\",\n",
      "            \"valueArray\": [\n",
      "              {\n",
      "                \"type\": \"string\",\n",
      "                \"valueString\": \"Insurance\"\n",
      "              }\n",
      "            ]\n",
      "          },\n",
      "          \"Companies\": {\n",
      "            \"type\": \"array\",\n",
      "            \"valueArray\": [\n",
      "              {\n",
      "                \"type\": \"string\",\n",
      "                \"valueString\": \"Contoso\"\n",
      "              }\n",
      "            ]\n",
      "          },\n",
      "          \"People\": {\n",
      "            \"type\": \"array\",\n",
      "            \"valueArray\": [\n",
      "              {\n",
      "                \"type\": \"object\",\n",
      "                \"valueObject\": {\n",
      "                  \"Name\": {\n",
      "                    \"type\": \"string\",\n",
      "                    \"valueString\": \"Sam\"\n",
      "                  },\n",
      "                  \"Role\": {\n",
      "                    \"type\": \"string\",\n",
      "                    \"valueString\": \"Customer Service Representative\"\n",
      "                  }\n",
      "                }\n",
      "              },\n",
      "              {\n",
      "                \"type\": \"object\",\n",
      "                \"valueObject\": {\n",
      "                  \"Name\": {\n",
      "                    \"type\": \"string\",\n",
      "                    \"valueString\": \"Mary Adams\"\n",
      "                  },\n",
      "                  \"Role\": {\n",
      "                    \"type\": \"string\",\n",
      "                    \"valueString\": \"Customer\"\n",
      "                  }\n",
      "                }\n",
      "              }\n",
      "            ]\n",
      "          },\n",
      "          \"Topics\": {\n",
      "            \"type\": \"array\",\n",
      "            \"valueArray\": [\n",
      "              {\n",
      "                \"type\": \"string\",\n",
      "                \"valueString\": \"Life Insurance\"\n",
      "              },\n",
      "              {\n",
      "                \"type\": \"string\",\n",
      "                \"valueString\": \"Term Life Policy\"\n",
      "              },\n",
      "              {\n",
      "                \"type\": \"string\",\n",
      "                \"valueString\": \"Insurance Premium\"\n",
      "              },\n",
      "              {\n",
      "                \"type\": \"string\",\n",
      "                \"valueString\": \"Payment Schedule\"\n",
      "              },\n",
      "              {\n",
      "                \"type\": \"string\",\n",
      "                \"valueString\": \"Customer Service\"\n",
      "              }\n",
      "            ]\n",
      "          }\n",
      "        },\n",
      "        \"kind\": \"document\",\n",
      "        \"startPageNumber\": 1,\n",
      "        \"endPageNumber\": 1,\n",
      "        \"pages\": []\n",
      "      }\n",
      "    ]\n",
      "  }\n",
      "}\n"
     ]
    }
   ],
   "source": [
    "#Use the following code to process pretranscribed files\n",
    "from python.transcripts_processor import TranscriptsProcessor\n",
    "test_file_path=analyzer_sample_file_path\n",
    "\n",
    "transcripts_processor = TranscriptsProcessor()\n",
    "webvtt_output, webvtt_output_file_path = transcripts_processor.convert_file(analyzer_sample_file_path)  \n",
    "\n",
    "if \"WEBVTT\" not in webvtt_output:\n",
    "    print(\"Error: The output is not in WebVTT format.\")\n",
    "else:    \n",
    "    response = client.begin_analyze(ANALYZER_ID, file_location=webvtt_output_file_path)\n",
    "    result = client.poll_result(response)\n",
    "\n",
    "print(json.dumps(result, indent=2))\n"
   ]
  },
  {
   "cell_type": "markdown",
   "metadata": {},
   "source": [
    "## Clean Up\n",
    "Optionally, delete the sample analyzer from your resource. In typical usage scenarios, you would analyze multiple files using the same analyzer."
   ]
  },
  {
   "cell_type": "code",
   "execution_count": null,
   "metadata": {},
   "outputs": [],
   "source": [
    "client.delete_analyzer(ANALYZER_ID)"
   ]
  }
 ],
 "metadata": {
  "kernelspec": {
   "display_name": "Python 3",
   "language": "python",
   "name": "python3"
  },
  "language_info": {
   "codemirror_mode": {
    "name": "ipython",
    "version": 3
   },
   "file_extension": ".py",
   "mimetype": "text/x-python",
   "name": "python",
   "nbconvert_exporter": "python",
   "pygments_lexer": "ipython3",
   "version": "3.12.9"
  }
 },
 "nbformat": 4,
 "nbformat_minor": 2
}
