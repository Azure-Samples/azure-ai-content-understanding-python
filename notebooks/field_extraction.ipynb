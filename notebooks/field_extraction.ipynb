{
 "cells": [
  {
   "cell_type": "markdown",
   "metadata": {},
   "source": [
    "# Extract custom fields in your file"
   ]
  },
  {
   "cell_type": "markdown",
   "metadata": {},
   "source": [
    "This notebook demonstrates how to use analyzers to extract custom fields from your input file."
   ]
  },
  {
   "cell_type": "markdown",
   "metadata": {},
   "source": [
    "## Prerequisites\n",
    "1. Follow steps in [README](../README.md#Configure-Azure-AI-Service-resource) to create `.env` file to configure your Azure AI Service.\n",
    "1. Install packages needed to run the sample"
   ]
  },
  {
   "cell_type": "code",
   "execution_count": null,
   "metadata": {},
   "outputs": [],
   "source": [
    "%pip install -r ../requirements.txt"
   ]
  },
  {
   "cell_type": "markdown",
   "metadata": {},
   "source": [
    "## Analyzer template examples"
   ]
  },
  {
   "cell_type": "markdown",
   "metadata": {},
   "source": [
    "Below is a collection of analyzer template examples designed to extract fields from various input file types.\n",
    "\n",
    "These templates are highly customizable, allowing you to modify them to suit your specific needs. For additional verified templates from Microsoft, please visit [HERE](../analyzer_templates/README.md)."
   ]
  },
  {
   "cell_type": "code",
   "execution_count": 13,
   "metadata": {},
   "outputs": [],
   "source": [
    "extraction_samples = {\n",
    "    \"sample_invoice\": ('../analyzer_templates/invoice.json', '../data/invoice.pdf'),\n",
    "    \"sample_chart\": ('../analyzer_templates/image_chart.json', '../data/pieChart.jpg'),\n",
    "    \"sample_call_transcript\": ('../analyzer_templates/call_transcript.json', '../data/callCenterRecording.mp3'),\n",
    "    \"sample_marketing_video\": ('../analyzer_templates/marketing_video.json', '../data/video.mp4')\n",
    "}"
   ]
  },
  {
   "cell_type": "markdown",
   "metadata": {},
   "source": [
    "Set the target to the sample analyzer that you want to try."
   ]
  },
  {
   "cell_type": "code",
   "execution_count": 14,
   "metadata": {},
   "outputs": [],
   "source": [
    "target_sample = \"sample_invoice\""
   ]
  },
  {
   "cell_type": "markdown",
   "metadata": {},
   "source": [
    "## Create Azure content understanding client\n",
    ">The [AzureContentUnderstandingClient](../python/content_understanding_client.py) is utility Class which contain the functions to interact with the Content Understanding server. Before Content Understanding SDK release, we can regard it as a lightweight SDK. Fill the constant **AZURE_AI_ENDPOINT**, **AZURE_AI_API_VERSION**, **AZURE_AI_API_KEY** with the information from your Azure AI Service."
   ]
  },
  {
   "cell_type": "code",
   "execution_count": 15,
   "metadata": {},
   "outputs": [],
   "source": [
    "import logging\n",
    "import json\n",
    "import os\n",
    "import sys\n",
    "from dotenv import find_dotenv, load_dotenv\n",
    "\n",
    "# import utility package from python samples root directory\n",
    "py_samples_root_dir = os.path.abspath(os.path.join(os.getcwd(), \"..\"))\n",
    "sys.path.append(py_samples_root_dir)\n",
    "from python.content_understanding_client import AzureContentUnderstandingClient\n",
    "\n",
    "load_dotenv(find_dotenv())\n",
    "logging.basicConfig(level=logging.INFO)\n",
    "\n",
    "client = AzureContentUnderstandingClient(\n",
    "    endpoint=os.getenv(\"AZURE_AI_ENDPOINT\"),\n",
    "    api_version=os.getenv(\"AZURE_AI_API_VERSION\", \"2024-12-01-preview\"),\n",
    "    subscription_key=os.getenv(\"AZURE_AI_API_KEY\"),\n",
    "    api_token=os.getenv(\"AZURE_AI_API_TOKEN\"),\n",
    "    x_ms_useragent=\"azure-ai-content-understanding-python/field_extraction\",\n",
    ")"
   ]
  },
  {
   "cell_type": "markdown",
   "metadata": {},
   "source": [
    "## Create analyzer with defined schema\n",
    "Before creating the custom fields analyzer, you should fill the constant ANALYZER_ID with a business-related name. Here we randomly generate a name for demo purpose."
   ]
  },
  {
   "cell_type": "code",
   "execution_count": 16,
   "metadata": {},
   "outputs": [
    {
     "name": "stderr",
     "output_type": "stream",
     "text": [
      "INFO:python.content_understanding_client:Analyzer extraction-sample-dcac80bd-cd4f-4122-aecc-756cddaf7bf0 create request accepted.\n",
      "INFO:python.content_understanding_client:Request 279e861c-c510-47d7-a858-726c1500400b in progress ...\n",
      "INFO:python.content_understanding_client:Request 279e861c-c510-47d7-a858-726c1500400b in progress ...\n",
      "INFO:python.content_understanding_client:Request result is ready after 5.65 seconds.\n",
      "INFO:root:{\n",
      "  \"id\": \"279e861c-c510-47d7-a858-726c1500400b\",\n",
      "  \"status\": \"Succeeded\",\n",
      "  \"result\": {\n",
      "    \"analyzerId\": \"extraction-sample-dcac80bd-cd4f-4122-aecc-756cddaf7bf0\",\n",
      "    \"description\": \"Sample invoice analyzer\",\n",
      "    \"createdAt\": \"2024-12-09T18:56:45Z\",\n",
      "    \"lastModifiedAt\": \"2024-12-09T18:56:51Z\",\n",
      "    \"config\": {\n",
      "      \"returnDetails\": false,\n",
      "      \"enableOcr\": true,\n",
      "      \"enableLayout\": true,\n",
      "      \"enableBarcode\": false,\n",
      "      \"enableFormula\": false\n",
      "    },\n",
      "    \"fieldSchema\": {\n",
      "      \"fields\": {\n",
      "        \"VendorName\": {\n",
      "          \"type\": \"string\",\n",
      "          \"method\": \"extract\",\n",
      "          \"description\": \"Vendor issuing the invoice\"\n",
      "        },\n",
      "        \"Items\": {\n",
      "          \"type\": \"array\",\n",
      "          \"method\": \"extract\",\n",
      "          \"items\": {\n",
      "            \"type\": \"object\",\n",
      "            \"properties\": {\n",
      "              \"Description\": {\n",
      "                \"type\": \"string\",\n",
      "                \"method\": \"extract\",\n",
      "                \"description\": \"Description of the item\"\n",
      "              },\n",
      "              \"Amount\": {\n",
      "                \"type\": \"number\",\n",
      "                \"method\": \"extract\",\n",
      "                \"description\": \"Amount of the item\"\n",
      "              }\n",
      "            }\n",
      "          }\n",
      "        }\n",
      "      }\n",
      "    },\n",
      "    \"warnings\": [],\n",
      "    \"status\": \"ready\",\n",
      "    \"scenario\": \"document\"\n",
      "  }\n",
      "}\n"
     ]
    }
   ],
   "source": [
    "import uuid\n",
    "ANALYZER_ID = \"extraction-sample-\" + str(uuid.uuid4())\n",
    "\n",
    "response = client.begin_create_analyzer(ANALYZER_ID, analyzer_schema_path=extraction_samples[target_sample][0])\n",
    "result = client.poll_result(response)\n",
    "\n",
    "logging.info(json.dumps(result, indent=2))"
   ]
  },
  {
   "cell_type": "markdown",
   "metadata": {},
   "source": [
    "## Use created analyzer to extract document content\n"
   ]
  },
  {
   "cell_type": "markdown",
   "metadata": {},
   "source": [
    "After the analyzer is successfully created, we can use it to analyze our input files."
   ]
  },
  {
   "cell_type": "code",
   "execution_count": 17,
   "metadata": {},
   "outputs": [
    {
     "name": "stderr",
     "output_type": "stream",
     "text": [
      "INFO:python.content_understanding_client:Analyzing file ../data/invoice.pdf with analyzer: extraction-sample-dcac80bd-cd4f-4122-aecc-756cddaf7bf0\n",
      "INFO:python.content_understanding_client:Request 6a7c9abb-ff59-4d0c-af08-306b8cd02dc8 in progress ...\n",
      "INFO:python.content_understanding_client:Request 6a7c9abb-ff59-4d0c-af08-306b8cd02dc8 in progress ...\n",
      "INFO:python.content_understanding_client:Request 6a7c9abb-ff59-4d0c-af08-306b8cd02dc8 in progress ...\n",
      "INFO:python.content_understanding_client:Request result is ready after 8.42 seconds.\n",
      "INFO:root:{\n",
      "  \"id\": \"6a7c9abb-ff59-4d0c-af08-306b8cd02dc8\",\n",
      "  \"status\": \"Succeeded\",\n",
      "  \"result\": {\n",
      "    \"analyzerId\": \"extraction-sample-dcac80bd-cd4f-4122-aecc-756cddaf7bf0\",\n",
      "    \"apiVersion\": \"2024-12-01-preview\",\n",
      "    \"createdAt\": \"2024-12-09T18:56:54Z\",\n",
      "    \"warnings\": [],\n",
      "    \"contents\": [\n",
      "      {\n",
      "        \"markdown\": \"CONTOSO LTD.\\n\\n\\n# INVOICE\\n\\nContoso Headquarters\\n123 456th St\\nNew York, NY, 10001\\n\\nINVOICE: INV-100\\n\\nINVOICE DATE: 11/15/2019\\n\\nDUE DATE: 12/15/2019\\n\\nCUSTOMER NAME: MICROSOFT CORPORATION\\n\\nSERVICE PERIOD: 10/14/2019 - 11/14/2019\\n\\nCUSTOMER ID: CID-12345\\n\\nMicrosoft Corp\\n123 Other St,\\nRedmond WA, 98052\\n\\nBILL TO:\\n\\nMicrosoft Finance\\n\\n123 Bill St,\\n\\nRedmond WA, 98052\\n\\nSHIP TO:\\n\\nMicrosoft Delivery\\n\\n123 Ship St,\\n\\nRedmond WA, 98052\\n\\nSERVICE ADDRESS:\\nMicrosoft Services\\n123 Service St,\\nRedmond WA, 98052\\n\\n\\n<table>\\n<tr>\\n<th>SALESPERSON</th>\\n<th>P.O. NUMBER</th>\\n<th>REQUISITIONER</th>\\n<th>SHIPPED VIA</th>\\n<th>F.O.B. POINT</th>\\n<th>TERMS</th>\\n</tr>\\n<tr>\\n<td></td>\\n<td>PO-3333</td>\\n<td></td>\\n<td></td>\\n<td></td>\\n<td></td>\\n</tr>\\n</table>\\n\\n\\n<table>\\n<tr>\\n<th>DATE</th>\\n<th>ITEM CODE</th>\\n<th>DESCRIPTION</th>\\n<th>QTY</th>\\n<th>UM</th>\\n<th>PRICE</th>\\n<th>TAX</th>\\n<th>AMOUNT</th>\\n</tr>\\n<tr>\\n<td>3/4/2021</td>\\n<td>A123</td>\\n<td>Consulting Services</td>\\n<td>2</td>\\n<td>hours</td>\\n<td>$30.00</td>\\n<td>$6.00</td>\\n<td>$60.00</td>\\n</tr>\\n<tr>\\n<td>3/5/2021</td>\\n<td>B456</td>\\n<td>Document Fee</td>\\n<td>3</td>\\n<td></td>\\n<td>$10.00</td>\\n<td>$3.00</td>\\n<td>$30.00</td>\\n</tr>\\n<tr>\\n<td>3/6/2021</td>\\n<td>C789</td>\\n<td>Printing Fee</td>\\n<td>10</td>\\n<td>pages</td>\\n<td>$1.00</td>\\n<td>$1.00</td>\\n<td>$10.00</td>\\n</tr>\\n</table>\\n\\n\\n<table>\\n<tr>\\n<td>SUBTOTAL</td>\\n<td>$100.00</td>\\n</tr>\\n<tr>\\n<td>SALES TAX</td>\\n<td>$10.00</td>\\n</tr>\\n<tr>\\n<td>TOTAL</td>\\n<td>$110.00</td>\\n</tr>\\n<tr>\\n<td>PREVIOUS UNPAID BALANCE</td>\\n<td>$500.00</td>\\n</tr>\\n<tr>\\n<td>AMOUNT DUE</td>\\n<td>$610.00</td>\\n</tr>\\n</table>\\n\\n\\nTHANK YOU FOR YOUR BUSINESS!\\n\\nREMIT TO:\\n\\nContoso Billing\\n\\n123 Remit St\\n\\nNew York, NY, 10001\\n\",\n",
      "        \"fields\": {\n",
      "          \"VendorName\": {\n",
      "            \"type\": \"string\",\n",
      "            \"valueString\": \"CONTOSO LTD.\",\n",
      "            \"spans\": [\n",
      "              {\n",
      "                \"offset\": 0,\n",
      "                \"length\": 12\n",
      "              }\n",
      "            ],\n",
      "            \"confidence\": 0.941,\n",
      "            \"source\": \"D(1,0.5729,0.6582,2.3353,0.6582,2.3353,0.8957,0.5729,0.8957)\"\n",
      "          },\n",
      "          \"Items\": {\n",
      "            \"type\": \"array\",\n",
      "            \"valueArray\": [\n",
      "              {\n",
      "                \"type\": \"object\",\n",
      "                \"valueObject\": {\n",
      "                  \"Description\": {\n",
      "                    \"type\": \"string\",\n",
      "                    \"valueString\": \"Consulting Services\",\n",
      "                    \"spans\": [\n",
      "                      {\n",
      "                        \"offset\": 909,\n",
      "                        \"length\": 19\n",
      "                      }\n",
      "                    ],\n",
      "                    \"confidence\": 0.971,\n",
      "                    \"source\": \"D(1,2.3264,5.673,3.6413,5.673,3.6413,5.8402,2.3264,5.8402)\"\n",
      "                  },\n",
      "                  \"Amount\": {\n",
      "                    \"type\": \"number\",\n",
      "                    \"valueNumber\": 60,\n",
      "                    \"spans\": [\n",
      "                      {\n",
      "                        \"offset\": 995,\n",
      "                        \"length\": 6\n",
      "                      }\n",
      "                    ],\n",
      "                    \"confidence\": 0.989,\n",
      "                    \"source\": \"D(1,7.4507,5.6684,7.9245,5.6684,7.9245,5.8323,7.4507,5.8323)\"\n",
      "                  }\n",
      "                }\n",
      "              },\n",
      "              {\n",
      "                \"type\": \"object\",\n",
      "                \"valueObject\": {\n",
      "                  \"Description\": {\n",
      "                    \"type\": \"string\",\n",
      "                    \"valueString\": \"Document Fee\",\n",
      "                    \"spans\": [\n",
      "                      {\n",
      "                        \"offset\": 1054,\n",
      "                        \"length\": 12\n",
      "                      }\n",
      "                    ],\n",
      "                    \"confidence\": 0.982,\n",
      "                    \"source\": \"D(1,2.3255,5.9758,3.3258,5.9758,3.3258,6.1319,2.3255,6.1319)\"\n",
      "                  },\n",
      "                  \"Amount\": {\n",
      "                    \"type\": \"number\",\n",
      "                    \"valueNumber\": 30,\n",
      "                    \"spans\": [\n",
      "                      {\n",
      "                        \"offset\": 1128,\n",
      "                        \"length\": 6\n",
      "                      }\n",
      "                    ],\n",
      "                    \"confidence\": 0.992,\n",
      "                    \"source\": \"D(1,7.4519,5.9669,7.9245,5.9669,7.9245,6.1322,7.4519,6.1322)\"\n",
      "                  }\n",
      "                }\n",
      "              },\n",
      "              {\n",
      "                \"type\": \"object\",\n",
      "                \"valueObject\": {\n",
      "                  \"Description\": {\n",
      "                    \"type\": \"string\",\n",
      "                    \"valueString\": \"Printing Fee\",\n",
      "                    \"spans\": [\n",
      "                      {\n",
      "                        \"offset\": 1187,\n",
      "                        \"length\": 12\n",
      "                      }\n",
      "                    ],\n",
      "                    \"confidence\": 0.978,\n",
      "                    \"source\": \"D(1,2.3234,6.2686,3.1488,6.2686,3.1488,6.4426,2.3234,6.4426)\"\n",
      "                  },\n",
      "                  \"Amount\": {\n",
      "                    \"type\": \"number\",\n",
      "                    \"valueNumber\": 10,\n",
      "                    \"spans\": [\n",
      "                      {\n",
      "                        \"offset\": 1266,\n",
      "                        \"length\": 6\n",
      "                      }\n",
      "                    ],\n",
      "                    \"confidence\": 0.997,\n",
      "                    \"source\": \"D(1,7.4516,6.2612,7.9245,6.2612,7.9245,6.4318,7.4516,6.4318)\"\n",
      "                  }\n",
      "                }\n",
      "              }\n",
      "            ]\n",
      "          }\n",
      "        },\n",
      "        \"kind\": \"document\",\n",
      "        \"startPageNumber\": 1,\n",
      "        \"endPageNumber\": 1,\n",
      "        \"unit\": \"inch\",\n",
      "        \"pages\": [\n",
      "          {\n",
      "            \"pageNumber\": 1,\n",
      "            \"angle\": -0.0039,\n",
      "            \"width\": 8.5,\n",
      "            \"height\": 11\n",
      "          }\n",
      "        ]\n",
      "      }\n",
      "    ]\n",
      "  }\n",
      "}\n"
     ]
    }
   ],
   "source": [
    "response = client.begin_analyze(ANALYZER_ID, file_location=extraction_samples[target_sample][1])\n",
    "result = client.poll_result(response)\n",
    "\n",
    "logging.info(json.dumps(result, indent=2))"
   ]
  },
  {
   "cell_type": "markdown",
   "metadata": {},
   "source": [
    "## Delete exist analyzer in Content Understanding Service\n",
    "This snippet is not required, but it's only used to prevent the testing analyzer from residing in your service. The custom fields analyzer could be stored in your service for reusing by subsequent business in real usage scenarios.\n",
    "\n"
   ]
  },
  {
   "cell_type": "code",
   "execution_count": 18,
   "metadata": {},
   "outputs": [
    {
     "name": "stderr",
     "output_type": "stream",
     "text": [
      "INFO:python.content_understanding_client:Analyzer extraction-sample-dcac80bd-cd4f-4122-aecc-756cddaf7bf0 deleted.\n"
     ]
    },
    {
     "data": {
      "text/plain": [
       "<Response [204]>"
      ]
     },
     "execution_count": 18,
     "metadata": {},
     "output_type": "execute_result"
    }
   ],
   "source": [
    "client.delete_analyzer(ANALYZER_ID)"
   ]
  }
 ],
 "metadata": {
  "kernelspec": {
   "display_name": "Python 3",
   "language": "python",
   "name": "python3"
  },
  "language_info": {
   "codemirror_mode": {
    "name": "ipython",
    "version": 3
   },
   "file_extension": ".py",
   "mimetype": "text/x-python",
   "name": "python",
   "nbconvert_exporter": "python",
   "pygments_lexer": "ipython3",
   "version": "3.8.10"
  }
 },
 "nbformat": 4,
 "nbformat_minor": 2
}
