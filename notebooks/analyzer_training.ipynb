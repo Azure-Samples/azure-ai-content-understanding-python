{
 "cells": [
  {
   "cell_type": "markdown",
   "metadata": {},
   "source": [
    "# Enhance Your Analyzer with Labeled Data\n",
    "\n",
    "\n",
    "> #################################################################################\n",
    ">\n",
    "> Note: Currently, this feature is only available when the analyzer scenario is set to `document`.\n",
    ">\n",
    "> #################################################################################\n",
    "\n",
    "Labeled data consists of samples that have been tagged with one or more labels to provide additional context or meaning. This enriched information helps improve the analyzer's performance.\n",
    "\n",
    "For your own projects, you can use [Azure AI Foundry](https://learn.microsoft.com/en-us/azure/ai-services/content-understanding/quickstart/use-ai-foundry) to annotate your data using the labeling tool.\n",
    "\n",
    "This notebook demonstrates how to create an analyzer using your labeled data and how to analyze your files afterward.\n",
    "\n",
    "\n",
    "## Prerequisites\n",
    "1. Please ensure your Azure AI service is configured by following the [configuration steps](../README.md#configure-azure-ai-service-resource).\n",
    "2. Set environment variables related to training data by following the instructions in [Set env for training data](../docs/set_env_for_training_data_and_reference_doc.md) and add them to the [.env](./.env) file.\n",
    "   - You can either set `TRAINING_DATA_SAS_URL` directly with the SAS URL for your Azure Blob container,\n",
    "   - Or set both `TRAINING_DATA_STORAGE_ACCOUNT_NAME` and `TRAINING_DATA_CONTAINER_NAME` to generate the SAS URL automatically in later steps.\n",
    "   - Also, set `TRAINING_DATA_PATH` to specify the folder path within the container where the training data will be uploaded.\n",
    "3. Please install the packages required to run the sample:"
   ]
  },
  {
   "cell_type": "code",
   "execution_count": null,
   "metadata": {},
   "outputs": [],
   "source": [
    "%pip install -r ../requirements.txt"
   ]
  },
  {
   "cell_type": "markdown",
   "metadata": {},
   "source": [
    "## Analyzer Template and Local Training Folder Setup\n",
    "In this sample, we define a template for receipts.\n",
    "\n",
    "The training folder should contain a flat (one-level) directory of labeled receipt documents. Each document includes:\n",
    "- The original file (e.g., PDF or image).\n",
    "- A corresponding `labels.json` file containing labeled fields.\n",
    "- A corresponding `result.json` file with OCR results."
   ]
  },
  {
   "cell_type": "code",
   "execution_count": null,
   "metadata": {},
   "outputs": [],
   "source": [
    "analyzer_template = \"../analyzer_templates/receipt.json\"\n",
    "training_docs_folder = \"../data/document_training\""
   ]
  },
  {
   "cell_type": "markdown",
   "metadata": {},
   "source": [
    "## Create Azure Content Understanding Client\n",
    "> The [AzureContentUnderstandingClient](../python/content_understanding_client.py) is a utility class containing helper functions. Before the official release of the Content Understanding SDK, please consider it a lightweight SDK.\n",
    ">\n",
    "> Please fill in the constants **AZURE_AI_ENDPOINT**, **AZURE_AI_API_VERSION**, and **AZURE_AI_API_KEY** with the information from your Azure AI Service.\n",
    "\n",
    "> ⚠️ Important:\n",
    "Please update the code below to match your Azure authentication method.\n",
    "Look for the `# IMPORTANT` comments and modify those sections accordingly.\n",
    "If you skip this step, the sample may not run correctly.\n",
    "\n",
    "> ⚠️ Note: While using a subscription key works, using a token provider with Azure Active Directory (AAD) is safer and highly recommended for production environments."
   ]
  },
  {
   "cell_type": "code",
   "execution_count": null,
   "metadata": {},
   "outputs": [],
   "source": [
    "import logging\n",
    "import json\n",
    "import os\n",
    "import sys\n",
    "from pathlib import Path\n",
    "from dotenv import find_dotenv, load_dotenv\n",
    "from azure.identity import DefaultAzureCredential, get_bearer_token_provider\n",
    "\n",
    "# Import utility package from the Python samples root directory\n",
    "parent_dir = Path(Path.cwd()).parent\n",
    "sys.path.append(str(parent_dir))\n",
    "from python.content_understanding_client import AzureContentUnderstandingClient\n",
    "\n",
    "load_dotenv(find_dotenv())\n",
    "logging.basicConfig(level=logging.INFO)\n",
    "\n",
    "credential = DefaultAzureCredential()\n",
    "token_provider = get_bearer_token_provider(credential, \"https://cognitiveservices.azure.com/.default\")\n",
    "\n",
    "client = AzureContentUnderstandingClient(\n",
    "    endpoint=os.getenv(\"AZURE_AI_ENDPOINT\"),\n",
    "    api_version=os.getenv(\"AZURE_AI_API_VERSION\", \"2025-05-01-preview\"),\n",
    "    # IMPORTANT: Comment out token_provider if using subscription key\n",
    "    token_provider=token_provider,\n",
    "    # IMPORTANT: Uncomment this if using subscription key\n",
    "    # subscription_key=os.getenv(\"AZURE_AI_API_KEY\"),\n",
    "    x_ms_useragent=\"azure-ai-content-understanding-python/analyzer_training\", # This header is used for sample usage telemetry; please comment out this line if you wish to opt out.\n",
    ")"
   ]
  },
  {
   "cell_type": "markdown",
   "metadata": {},
   "source": [
    "## Prepare Labeled Data\n",
    "In this step, we will:\n",
    "- Use the environment variables `TRAINING_DATA_PATH` and SAS URL-related variables set in the Prerequisites step.\n",
    "- Attempt to retrieve the SAS URL from the environment variable `TRAINING_DATA_SAS_URL`.\n",
    "- If `TRAINING_DATA_SAS_URL` is not set, generate it automatically using `TRAINING_DATA_STORAGE_ACCOUNT_NAME` and `TRAINING_DATA_CONTAINER_NAME` environment variables.\n",
    "- Verify that each document file in the local folder has corresponding `.labels.json` and `.result.json` files.\n",
    "- Upload these files to the Azure Blob storage container specified by the environment variables."
   ]
  },
  {
   "cell_type": "code",
   "execution_count": null,
   "metadata": {},
   "outputs": [],
   "source": [
    "training_data_sas_url = os.getenv(\"TRAINING_DATA_SAS_URL\")\n",
    "if not training_data_sas_url:\n",
    "    TRAINING_DATA_STORAGE_ACCOUNT_NAME = os.getenv(\"TRAINING_DATA_STORAGE_ACCOUNT_NAME\")\n",
    "    TRAINING_DATA_CONTAINER_NAME = os.getenv(\"TRAINING_DATA_CONTAINER_NAME\")\n",
    "    if not TRAINING_DATA_STORAGE_ACCOUNT_NAME and not training_data_sas_url:\n",
    "        raise ValueError(\n",
    "            \"Please set either TRAINING_DATA_SAS_URL or both TRAINING_DATA_STORAGE_ACCOUNT_NAME and TRAINING_DATA_CONTAINER_NAME environment variables.\"\n",
    "        )\n",
    "    from azure.storage.blob import ContainerSasPermissions\n",
    "    # Requires \"Write\" (critical for upload/modify/append) along with \"Read\" and \"List\" for viewing and listing blobs.\n",
    "    training_data_sas_url = AzureContentUnderstandingClient.generate_temp_container_sas_url(\n",
    "        account_name=TRAINING_DATA_STORAGE_ACCOUNT_NAME,\n",
    "        container_name=TRAINING_DATA_CONTAINER_NAME,\n",
    "        permissions=ContainerSasPermissions(read=True, write=True, list=True),\n",
    "        expiry_hours=1,\n",
    "    )\n",
    "\n",
    "training_data_path = os.getenv(\"TRAINING_DATA_PATH\")\n",
    "\n",
    "await client.generate_training_data_on_blob(training_docs_folder, training_data_sas_url, training_data_path)"
   ]
  },
  {
   "cell_type": "markdown",
   "metadata": {},
   "source": [
    "## Create Analyzer with Defined Schema\n",
    "Before creating the analyzer, please fill in the constant `ANALYZER_ID` with a relevant name for your task. In this example, we generate a unique suffix so that this cell can be run multiple times to create different analyzers.\n",
    "\n",
    "We use **training_data_sas_url** and **training_data_path** as set in the [.env](./.env) file and used in the previous step."
   ]
  },
  {
   "cell_type": "code",
   "execution_count": null,
   "metadata": {},
   "outputs": [],
   "source": [
    "import uuid\n",
    "CUSTOM_ANALYZER_ID = \"train-sample-\" + str(uuid.uuid4())\n",
    "\n",
    "response = client.begin_create_analyzer(\n",
    "    CUSTOM_ANALYZER_ID,\n",
    "    analyzer_template_path=analyzer_template,\n",
    "    training_storage_container_sas_url=training_data_sas_url,\n",
    "    training_storage_container_path_prefix=training_data_path,\n",
    ")\n",
    "result = client.poll_result(response)\n",
    "if result is not None and \"status\" in result and result[\"status\"] == \"Succeeded\":\n",
    "    logging.info(f\"Analyzer details for {result['result']['analyzerId']}\")\n",
    "    logging.info(json.dumps(result, indent=2))\n",
    "else:\n",
    "    logging.warning(\n",
    "        \"An issue was encountered when trying to create the analyzer. \"\n",
    "        \"Please double-check your deployment and configurations for potential issues.\"\n",
    "    )"
   ]
  },
  {
   "cell_type": "markdown",
   "metadata": {},
   "source": [
    "## Use Created Analyzer to Extract Document Content\n",
    "After the analyzer is successfully created, you can use it to analyze your input files."
   ]
  },
  {
   "cell_type": "code",
   "execution_count": null,
   "metadata": {},
   "outputs": [],
   "source": [
    "response = client.begin_analyze(CUSTOM_ANALYZER_ID, file_location='../data/receipt.png')\n",
    "result_json = client.poll_result(response)\n",
    "\n",
    "logging.info(json.dumps(result_json, indent=2))"
   ]
  },
  {
   "cell_type": "markdown",
   "metadata": {},
   "source": [
    "## Delete Existing Analyzer in Content Understanding Service\n",
    "This snippet is optional and is included to prevent test analyzers from persisting in your service. Without deletion, the analyzer will remain in your service and may be reused in subsequent operations."
   ]
  },
  {
   "cell_type": "code",
   "execution_count": null,
   "metadata": {},
   "outputs": [],
   "source": [
    "client.delete_analyzer(CUSTOM_ANALYZER_ID)"
   ]
  }
 ],
 "metadata": {
  "kernelspec": {
   "display_name": "Python 3",
   "language": "python",
   "name": "python3"
  },
  "language_info": {
   "codemirror_mode": {
    "name": "ipython",
    "version": 3
   },
   "file_extension": ".py",
   "mimetype": "text/x-python",
   "name": "python",
   "nbconvert_exporter": "python",
   "pygments_lexer": "ipython3",
   "version": "3.11.12"
  }
 },
 "nbformat": 4,
 "nbformat_minor": 2
}