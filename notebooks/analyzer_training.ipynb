{
 "cells": [
  {
   "cell_type": "markdown",
   "metadata": {},
   "source": [
    "# Enhance your analyzer with labeled data\n",
    "\n",
    "\n",
    "> #################################################################################\n",
    ">\n",
    "> Note: Currently this feature is only available for analyzer scenario is `document`\n",
    ">\n",
    "> #################################################################################\n",
    "\n",
    "Labeled data is a group of samples that have been tagged with one or more labels to add context or meaning, which is used to improve analyzer's performance.\n",
    "\n",
    "Please go to [Azure AI Foundry]() to use the labling tool to annotate your data.\n",
    "\n",
    "In this notebook we will demonstrate after you have the labeled data, how to create analyzer with them and analyze your files.\n",
    "\n",
    "\n",
    "\n",
    "## Prerequisites\n",
    "1. Ensure Azure AI service is configured following [steps](../README.md#configure-azure-ai-service-resource)\n",
    "1. Follow steps in [Set labeled data](../docs/set_env_for_labeled_data.md) to add training data related env variables in `.env`.\n",
    "1. Install packages needed to run the sample\n",
    "\n",
    "\n"
   ]
  },
  {
   "cell_type": "code",
   "execution_count": 1,
   "metadata": {},
   "outputs": [
    {
     "name": "stdout",
     "output_type": "stream",
     "text": [
      "Defaulting to user installation because normal site-packages is not writeable\n",
      "Requirement already satisfied: azure-identity in /home/vscode/.local/lib/python3.11/site-packages (from -r ../requirements.txt (line 1)) (1.23.0)\n",
      "Requirement already satisfied: python-dotenv in /home/vscode/.local/lib/python3.11/site-packages (from -r ../requirements.txt (line 2)) (1.1.0)\n",
      "Requirement already satisfied: requests in /home/vscode/.local/lib/python3.11/site-packages (from -r ../requirements.txt (line 3)) (2.32.3)\n",
      "Requirement already satisfied: Pillow in /home/vscode/.local/lib/python3.11/site-packages (from -r ../requirements.txt (line 4)) (11.2.1)\n",
      "Requirement already satisfied: azure-core>=1.31.0 in /home/vscode/.local/lib/python3.11/site-packages (from azure-identity->-r ../requirements.txt (line 1)) (1.34.0)\n",
      "Requirement already satisfied: cryptography>=2.5 in /home/vscode/.local/lib/python3.11/site-packages (from azure-identity->-r ../requirements.txt (line 1)) (45.0.3)\n",
      "Requirement already satisfied: msal>=1.30.0 in /home/vscode/.local/lib/python3.11/site-packages (from azure-identity->-r ../requirements.txt (line 1)) (1.32.3)\n",
      "Requirement already satisfied: msal-extensions>=1.2.0 in /home/vscode/.local/lib/python3.11/site-packages (from azure-identity->-r ../requirements.txt (line 1)) (1.3.1)\n",
      "Requirement already satisfied: typing-extensions>=4.0.0 in /home/vscode/.local/lib/python3.11/site-packages (from azure-identity->-r ../requirements.txt (line 1)) (4.13.2)\n",
      "Requirement already satisfied: charset-normalizer<4,>=2 in /home/vscode/.local/lib/python3.11/site-packages (from requests->-r ../requirements.txt (line 3)) (3.4.2)\n",
      "Requirement already satisfied: idna<4,>=2.5 in /home/vscode/.local/lib/python3.11/site-packages (from requests->-r ../requirements.txt (line 3)) (3.10)\n",
      "Requirement already satisfied: urllib3<3,>=1.21.1 in /home/vscode/.local/lib/python3.11/site-packages (from requests->-r ../requirements.txt (line 3)) (2.4.0)\n",
      "Requirement already satisfied: certifi>=2017.4.17 in /home/vscode/.local/lib/python3.11/site-packages (from requests->-r ../requirements.txt (line 3)) (2025.4.26)\n",
      "Requirement already satisfied: six>=1.11.0 in /home/vscode/.local/lib/python3.11/site-packages (from azure-core>=1.31.0->azure-identity->-r ../requirements.txt (line 1)) (1.17.0)\n",
      "Requirement already satisfied: cffi>=1.14 in /home/vscode/.local/lib/python3.11/site-packages (from cryptography>=2.5->azure-identity->-r ../requirements.txt (line 1)) (1.17.1)\n",
      "Requirement already satisfied: PyJWT<3,>=1.0.0 in /home/vscode/.local/lib/python3.11/site-packages (from PyJWT[crypto]<3,>=1.0.0->msal>=1.30.0->azure-identity->-r ../requirements.txt (line 1)) (2.10.1)\n",
      "Requirement already satisfied: pycparser in /home/vscode/.local/lib/python3.11/site-packages (from cffi>=1.14->cryptography>=2.5->azure-identity->-r ../requirements.txt (line 1)) (2.22)\n",
      "\n",
      "\u001b[1m[\u001b[0m\u001b[34;49mnotice\u001b[0m\u001b[1;39;49m]\u001b[0m\u001b[39;49m A new release of pip is available: \u001b[0m\u001b[31;49m24.0\u001b[0m\u001b[39;49m -> \u001b[0m\u001b[32;49m25.1.1\u001b[0m\n",
      "\u001b[1m[\u001b[0m\u001b[34;49mnotice\u001b[0m\u001b[1;39;49m]\u001b[0m\u001b[39;49m To update, run: \u001b[0m\u001b[32;49mpip install --upgrade pip\u001b[0m\n",
      "Note: you may need to restart the kernel to use updated packages.\n"
     ]
    }
   ],
   "source": [
    "%pip install -r ../requirements.txt"
   ]
  },
  {
   "cell_type": "markdown",
   "metadata": {},
   "source": [
    "\n",
    "## Analyzer template\n",
    "In this sample we define a template for [purchase order](../analyzer_templates/purchase_order.json). We labeled the fields in the training data."
   ]
  },
  {
   "cell_type": "code",
   "execution_count": 2,
   "metadata": {},
   "outputs": [],
   "source": [
    "analyzer_template = '../analyzer_templates/receipt.json'"
   ]
  },
  {
   "cell_type": "markdown",
   "metadata": {},
   "source": [
    "## Create Azure content understanding client\n",
    ">The [AzureContentUnderstandingClient](../python/content_understanding_client.py) is utility Class which contain the functions to interact with the Content Understanding server. Before Content Understanding SDK release, we can regard it as a lightweight SDK. Fill the constant **AZURE_AI_ENDPOINT**, **AZURE_AI_API_VERSION**, **AZURE_AI_API_KEY** with the information from your Azure AI Service."
   ]
  },
  {
   "cell_type": "code",
   "execution_count": 2,
   "metadata": {},
   "outputs": [
    {
     "name": "stderr",
     "output_type": "stream",
     "text": [
      "INFO:azure.identity._credentials.environment:No environment configuration found.\n",
      "INFO:azure.identity._credentials.managed_identity:ManagedIdentityCredential will use IMDS\n",
      "INFO:azure.core.pipeline.policies.http_logging_policy:Request URL: 'http://169.254.169.254/metadata/identity/oauth2/token?api-version=REDACTED&resource=REDACTED'\n",
      "Request method: 'GET'\n",
      "Request headers:\n",
      "    'User-Agent': 'azsdk-python-identity/1.23.0 Python/3.11.12 (Linux-5.15.167.4-microsoft-standard-WSL2-x86_64-with-glibc2.36)'\n",
      "No body was attached to the request\n",
      "INFO:azure.identity._credentials.chained:DefaultAzureCredential acquired a token from AzureDeveloperCliCredential\n"
     ]
    }
   ],
   "source": [
    "import logging\n",
    "import json\n",
    "import os\n",
    "import sys\n",
    "from pathlib import Path\n",
    "from dotenv import find_dotenv, load_dotenv\n",
    "from azure.identity import DefaultAzureCredential, get_bearer_token_provider\n",
    "\n",
    "# import utility package from python samples root directory\n",
    "parent_dir = Path(Path.cwd()).parent\n",
    "sys.path.append(str(parent_dir))\n",
    "from python.content_understanding_client import AzureContentUnderstandingClient\n",
    "\n",
    "load_dotenv(find_dotenv())\n",
    "logging.basicConfig(level=logging.INFO)\n",
    "\n",
    "credential = DefaultAzureCredential()\n",
    "token_provider = get_bearer_token_provider(credential, \"https://cognitiveservices.azure.com/.default\")\n",
    "\n",
    "client = AzureContentUnderstandingClient(\n",
    "    endpoint=os.getenv(\"AZURE_AI_ENDPOINT\"),\n",
    "    api_version=os.getenv(\"AZURE_AI_API_VERSION\", \"2025-05-01-preview\"),\n",
    "    token_provider=token_provider,\n",
    "    x_ms_useragent=\"azure-ai-content-understanding-python/analyzer_training\", # This header is used for sample usage telemetry, please comment out this line if you want to opt out.\n",
    ")"
   ]
  },
  {
   "cell_type": "markdown",
   "metadata": {},
   "source": [
    "## Use analyzer to extract document content\n",
    "After the analyzer is successfully setted, we can use it to analyze our input files."
   ]
  },
  {
   "cell_type": "code",
   "execution_count": 5,
   "metadata": {},
   "outputs": [
    {
     "name": "stderr",
     "output_type": "stream",
     "text": [
      "INFO:python.content_understanding_client:Analyzing file ../data/receipt.png with analyzer: prebuilt-imageAnalyzer\n",
      "INFO:python.content_understanding_client:Request 397f0ac8-8975-4346-abc2-ea27c7c450aa in progress ...\n",
      "INFO:python.content_understanding_client:Request 397f0ac8-8975-4346-abc2-ea27c7c450aa in progress ...\n",
      "INFO:python.content_understanding_client:Request result is ready after 7.20 seconds.\n",
      "INFO:root:{\n",
      "  \"id\": \"397f0ac8-8975-4346-abc2-ea27c7c450aa\",\n",
      "  \"status\": \"Succeeded\",\n",
      "  \"result\": {\n",
      "    \"analyzerId\": \"prebuilt-imageAnalyzer\",\n",
      "    \"apiVersion\": \"2025-05-01-preview\",\n",
      "    \"createdAt\": \"2025-06-05T08:48:02Z\",\n",
      "    \"warnings\": [],\n",
      "    \"contents\": [\n",
      "      {\n",
      "        \"markdown\": \"![image](image)\\n\",\n",
      "        \"fields\": {\n",
      "          \"Summary\": {\n",
      "            \"type\": \"string\",\n",
      "            \"valueString\": \"The image is a receipt from a store named Contoso, located at 123 Main Street, Redmond, WA 98052. The receipt is dated June 10, 2019, at 12:59, and the sales associate is named Paul. The purchase includes two Surface Pro 6 devices priced at $1,999.00 each and three Surface Pens priced at $299.97 each. The subtotal for the purchase is $2,299.97, with an additional tax of $258.31, bringing the total amount to $2,558.28.\"\n",
      "          }\n",
      "        },\n",
      "        \"kind\": \"document\",\n",
      "        \"startPageNumber\": 1,\n",
      "        \"endPageNumber\": 1,\n",
      "        \"unit\": \"pixel\",\n",
      "        \"pages\": [\n",
      "          {\n",
      "            \"pageNumber\": 1,\n",
      "            \"spans\": []\n",
      "          }\n",
      "        ]\n",
      "      }\n",
      "    ]\n",
      "  }\n",
      "}\n"
     ]
    }
   ],
   "source": [
    "ANALYZER_ID = 'prebuilt-imageAnalyzer'\n",
    "response = client.begin_analyze(ANALYZER_ID, file_location='../data/receipt.png')\n",
    "result_json = client.poll_result(response)\n",
    "\n",
    "logging.info(json.dumps(result_json, indent=2))"
   ]
  },
  {
   "cell_type": "markdown",
   "metadata": {},
   "source": [
    "> The markdown output contains layout information, which is very useful for Retrieval-Augmented Generation (RAG) scenarios. You can paste the markdown into a viewer such as Visual Studio Code and preview the layout structure."
   ]
  },
  {
   "cell_type": "code",
   "execution_count": 9,
   "metadata": {},
   "outputs": [
    {
     "name": "stdout",
     "output_type": "stream",
     "text": [
      "![image](image)\n",
      "\n"
     ]
    }
   ],
   "source": [
    "  print(result_json[\"result\"][\"contents\"][0][\"markdown\"])"
   ]
  },
  {
   "cell_type": "markdown",
   "metadata": {},
   "source": [
    "> You can get the layout information, including words/lines in the pagesnode and paragraphs info in paragraphs, and tables in the table."
   ]
  },
  {
   "cell_type": "code",
   "execution_count": 12,
   "metadata": {},
   "outputs": [
    {
     "name": "stdout",
     "output_type": "stream",
     "text": [
      "{\"markdown\": \"![image](image)\\n\", \"fields\": {\"Summary\": {\"type\": \"string\", \"valueString\": \"The image is a receipt from a store named Contoso, located at 123 Main Street, Redmond, WA 98052. The receipt is dated June 10, 2019, at 12:59, and the sales associate is named Paul. The purchase includes two Surface Pro 6 devices priced at $1,999.00 each and three Surface Pens priced at $299.97 each. The subtotal for the purchase is $2,299.97, with an additional tax of $258.31, bringing the total amount to $2,558.28.\"}}, \"kind\": \"document\", \"startPageNumber\": 1, \"endPageNumber\": 1, \"unit\": \"pixel\", \"pages\": [{\"pageNumber\": 1, \"spans\": []}]}\n"
     ]
    }
   ],
   "source": [
    "print(json.dumps(result_json[\"result\"][\"contents\"][0]))"
   ]
  }
 ],
 "metadata": {
  "kernelspec": {
   "display_name": "Python 3",
   "language": "python",
   "name": "python3"
  },
  "language_info": {
   "codemirror_mode": {
    "name": "ipython",
    "version": 3
   },
   "file_extension": ".py",
   "mimetype": "text/x-python",
   "name": "python",
   "nbconvert_exporter": "python",
   "pygments_lexer": "ipython3",
   "version": "3.11.12"
  }
 },
 "nbformat": 4,
 "nbformat_minor": 2
}
