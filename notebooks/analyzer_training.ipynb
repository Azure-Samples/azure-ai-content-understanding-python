{
 "cells": [
  {
   "cell_type": "markdown",
   "metadata": {},
   "source": [
    "# Enhance your analyzer with labeled data\n",
    "\n",
    "Labeled data is a group of samples that have been tagged with one or more labels to add context or meaning, which is used to improve analyzer's performance.\n",
    "\n",
    "Please go to [Azure AI Foundry]() to use the labling tool to annotate your data.\n",
    "\n",
    "In this notebook we will demonstrate after you have the labeled data, how to create analyzer with them and analyze your files.\n",
    "\n",
    "> Note: Currently this feature is only available for analyzer scenario is `document`\n",
    "\n",
    "\n",
    "## Prerequisites\n",
    "1. Follow steps in [README](../README.md#Configure-Azure-AI-Service-resource) to create `.env` file to configure your Azure AI Service.\n",
    "1. Follow steps in [Set labeled data](../docs/set_env_for_labeled_data.md) to add training data related env variables in `.env`.\n",
    "1. Install packages needed to run the sample\n",
    "\n",
    "\n"
   ]
  },
  {
   "cell_type": "code",
   "execution_count": null,
   "metadata": {},
   "outputs": [],
   "source": [
    "%pip install -r ../requirements.txt"
   ]
  },
  {
   "cell_type": "markdown",
   "metadata": {},
   "source": [
    "\n",
    "## Analyzer template\n",
    "In this sample we define a template for [purchase order](../analyzer_templates/purchase_order.json). We labeled the fields in the training data."
   ]
  },
  {
   "cell_type": "code",
   "execution_count": 2,
   "metadata": {},
   "outputs": [],
   "source": [
    "analyzer_template = '../analyzer_templates/purchase_order.json'"
   ]
  },
  {
   "cell_type": "markdown",
   "metadata": {},
   "source": [
    "## Create Azure content understanding client\n",
    ">The [AzureContentUnderstandingClient](../python/content_understanding_client.py) is utility Class which contain the functions to interact with the Content Understanding server. Before Content Understanding SDK release, we can regard it as a lightweight SDK. Fill the constant **AZURE_AI_ENDPOINT**, **AZURE_AI_API_VERSION**, **AZURE_AI_API_KEY** with the information from your Azure AI Service."
   ]
  },
  {
   "cell_type": "code",
   "execution_count": null,
   "metadata": {},
   "outputs": [],
   "source": [
    "import logging\n",
    "import json\n",
    "import os\n",
    "import sys\n",
    "from dotenv import find_dotenv, load_dotenv\n",
    "\n",
    "# import utility package from python samples root directory\n",
    "py_samples_root_dir = os.path.abspath(os.path.join(os.getcwd(), \"..\"))\n",
    "sys.path.append(py_samples_root_dir)\n",
    "from python.content_understanding_client import AzureContentUnderstandingClient\n",
    "\n",
    "load_dotenv(find_dotenv())\n",
    "logging.basicConfig(level=logging.INFO)\n",
    "\n",
    "client = AzureContentUnderstandingClient(\n",
    "    endpoint=os.getenv(\"AZURE_AI_ENDPOINT\"),\n",
    "    api_version=os.getenv(\"AZURE_AI_API_VERSION\", \"2024-12-01-preview\"),\n",
    "    x_ms_useragent=\"azure-ai-content-understanding-python/analyzer_training\",\n",
    ")"
   ]
  },
  {
   "cell_type": "markdown",
   "metadata": {},
   "source": [
    "## Create analyzer with defined schema\n",
    "Before creating the custom fields analyzer, you should fill the constant ANALYZER_ID with a business-related name. Here we randomly generate a name for demo purpose.\n",
    "\n",
    "We use **TRAINING_DATA_SAS_URL** and **TRAINING_DATA_PATH** that's set in the prerequisite step."
   ]
  },
  {
   "cell_type": "code",
   "execution_count": null,
   "metadata": {},
   "outputs": [],
   "source": [
    "import uuid\n",
    "ANALYZER_ID = \"train-sample-\" + str(uuid.uuid4())\n",
    "\n",
    "response = client.begin_create_analyzer(\n",
    "    ANALYZER_ID,\n",
    "    analyzer_schema_path=analyzer_template,\n",
    "    training_storage_container_sas_url=os.getenv(\"TRAINING_DATA_SAS_URL\"),\n",
    "    training_storage_container_path_prefix=os.getenv(\"TRAINING_DATA_PATH\"),\n",
    ")\n",
    "result = client.poll_result(response)\n",
    "if result is not None and \"status\" in result and result[\"status\"] == \"Succeeded\":\n",
    "    logging.info(f\"Here is the analyzer detail for {result['result']['analyzerId']}\")\n",
    "    logging.info(json.dumps(result, indent=2))\n",
    "else:\n",
    "    logging.info(\n",
    "        \"Check your service please, may be some issues in configuration and deployment\"\n",
    "    )"
   ]
  },
  {
   "cell_type": "markdown",
   "metadata": {},
   "source": [
    "## Use created analyzer to extract document content\n",
    "After the analyzer is successfully created, we can use it to analyze our input files."
   ]
  },
  {
   "cell_type": "code",
   "execution_count": 5,
   "metadata": {},
   "outputs": [
    {
     "name": "stderr",
     "output_type": "stream",
     "text": [
      "INFO:python.content_understanding_client:Analyzing file ../data/purchase_order.jpg with analyzer: train-sample-3292ff56-bc75-4bf0-8a09-8aa866d8553f\n",
      "INFO:python.content_understanding_client:Request 9ed825c9-551e-45e2-8ec0-1ae555bcd56f in progress ...\n",
      "INFO:python.content_understanding_client:Request 9ed825c9-551e-45e2-8ec0-1ae555bcd56f in progress ...\n",
      "INFO:python.content_understanding_client:Request 9ed825c9-551e-45e2-8ec0-1ae555bcd56f in progress ...\n",
      "INFO:python.content_understanding_client:Request 9ed825c9-551e-45e2-8ec0-1ae555bcd56f in progress ...\n",
      "INFO:python.content_understanding_client:Request result is ready after 11.27 seconds.\n",
      "INFO:root:{\n",
      "  \"id\": \"9ed825c9-551e-45e2-8ec0-1ae555bcd56f\",\n",
      "  \"status\": \"Succeeded\",\n",
      "  \"result\": {\n",
      "    \"analyzerId\": \"train-sample-3292ff56-bc75-4bf0-8a09-8aa866d8553f\",\n",
      "    \"apiVersion\": \"2024-12-01-preview\",\n",
      "    \"createdAt\": \"2024-12-09T19:42:58Z\",\n",
      "    \"warnings\": [],\n",
      "    \"contents\": [\n",
      "      {\n",
      "        \"markdown\": \"Purchase Order\\n\\n\\n# Hero Limited\\n\\nCompany Phone: 555-348-6512\\nWebsite: www.herolimited.com\\nEmail:\\naccounts@herolimited.com\\n\\nPurchase Order\\n\\nDated As: 12/20/2020\\nPurchase Order #: 948284\\n\\nShipped To\\n\\nVendor Name: Hillary Swank\\nCompany Name: Higgly Wiggly Books\\nAddress: 938 NE Burner Road\\nBoulder City, CO 92848\\nPhone: 938-294-2949\\n\\nShipped From\\n\\nName: Bernie Sanders\\nCompany Name: Jupiter Book Supply\\nAddress: 383 N Kinnick Road\\nSeattle, WA 38383\\n\\nPhone: 932-299-0292\\n\\n\\n<table>\\n<tr>\\n<th>Details</th>\\n<th>Quantity</th>\\n<th>Unit Price</th>\\n<th>Total</th>\\n</tr>\\n<tr>\\n<td>Bindings</td>\\n<td>20</td>\\n<td>1.00</td>\\n<td>20.00</td>\\n</tr>\\n<tr>\\n<td>Covers Small</td>\\n<td>20</td>\\n<td>1.00</td>\\n<td>20.00</td>\\n</tr>\\n<tr>\\n<td>Feather Bookmark</td>\\n<td>20</td>\\n<td>5.00</td>\\n<td>100.00</td>\\n</tr>\\n<tr>\\n<td>Copper Swirl Marker</td>\\n<td>20</td>\\n<td>5.00</td>\\n<td>100.00</td>\\n</tr>\\n</table>\\n\\n\\n<table>\\n<tr>\\n<td>SUBTOTAL</td>\\n<td>$140.00</td>\\n</tr>\\n<tr>\\n<td>TAX</td>\\n<td>$4.00</td>\\n</tr>\\n<tr>\\n<td>TOTAL</td>\\n<td>$144.00</td>\\n</tr>\\n</table>\\n\\n\\nBernie Sanders\\n\\nBernie Sanders\\nManager\\n\\nAdditional Notes:\\n\\nDo not Jostle Box. Unpack carefully. Enjoy.\\n\\nJupiter Book Supply will refund you 50% per book if returned within 60 days of reading and\\n\\noffer you 25% off you next total purchase.\\n\",\n",
      "        \"fields\": {\n",
      "          \"PurchaseDate\": {\n",
      "            \"type\": \"date\",\n",
      "            \"valueDate\": \"2020-12-20\",\n",
      "            \"spans\": [\n",
      "              {\n",
      "                \"offset\": 149,\n",
      "                \"length\": 10\n",
      "              }\n",
      "            ],\n",
      "            \"confidence\": 0.998,\n",
      "            \"source\": \"D(1,1168,418,1318,418,1318,450,1168,450)\"\n",
      "          },\n",
      "          \"PurchaseOrderNumber\": {\n",
      "            \"type\": \"string\",\n",
      "            \"valueString\": \"948284\",\n",
      "            \"spans\": [\n",
      "              {\n",
      "                \"offset\": 178,\n",
      "                \"length\": 6\n",
      "              }\n",
      "            ],\n",
      "            \"confidence\": 0.998,\n",
      "            \"source\": \"D(1,1281,459,1376,459,1376,490,1281,490)\"\n",
      "          },\n",
      "          \"ShippedToAddress\": {\n",
      "            \"type\": \"string\",\n",
      "            \"valueString\": \"938 NE Burner Road Boulder City, CO 92848\",\n",
      "            \"spans\": [\n",
      "              {\n",
      "                \"offset\": 268,\n",
      "                \"length\": 18\n",
      "              },\n",
      "              {\n",
      "                \"offset\": 287,\n",
      "                \"length\": 22\n",
      "              }\n",
      "            ],\n",
      "            \"confidence\": 0.998,\n",
      "            \"source\": \"D(1,278,683,527,683,527,714,278,714);D(1,279,720,564,720,564,752,279,752)\"\n",
      "          },\n",
      "          \"TotalPayment\": {\n",
      "            \"type\": \"number\",\n",
      "            \"valueNumber\": 144,\n",
      "            \"spans\": [\n",
      "              {\n",
      "                \"offset\": 991,\n",
      "                \"length\": 7\n",
      "              }\n",
      "            ],\n",
      "            \"confidence\": 0.997,\n",
      "            \"source\": \"D(1,1428,1669,1531,1669,1531,1699,1428,1699)\"\n",
      "          }\n",
      "        },\n",
      "        \"kind\": \"document\",\n",
      "        \"startPageNumber\": 1,\n",
      "        \"endPageNumber\": 1,\n",
      "        \"unit\": \"pixel\",\n",
      "        \"pages\": [\n",
      "          {\n",
      "            \"pageNumber\": 1,\n",
      "            \"angle\": 0.05652412,\n",
      "            \"width\": 1700,\n",
      "            \"height\": 2200\n",
      "          }\n",
      "        ]\n",
      "      }\n",
      "    ]\n",
      "  }\n",
      "}\n"
     ]
    }
   ],
   "source": [
    "response = client.begin_analyze(ANALYZER_ID, file_location='../data/purchase_order.jpg')\n",
    "result = client.poll_result(response)\n",
    "\n",
    "logging.info(json.dumps(result, indent=2))"
   ]
  },
  {
   "cell_type": "markdown",
   "metadata": {},
   "source": [
    "## Delete exist analyzer in Content Understanding Service\n",
    "This snippet is not required, but it's only used to prevent the testing analyzer from residing in your service. The custom fields analyzer could be stored in your service for reusing by subsequent business in real usage scenarios.\n"
   ]
  },
  {
   "cell_type": "code",
   "execution_count": 6,
   "metadata": {},
   "outputs": [
    {
     "name": "stderr",
     "output_type": "stream",
     "text": [
      "INFO:python.content_understanding_client:Analyzer train-sample-3292ff56-bc75-4bf0-8a09-8aa866d8553f deleted.\n"
     ]
    },
    {
     "data": {
      "text/plain": [
       "<Response [204]>"
      ]
     },
     "execution_count": 6,
     "metadata": {},
     "output_type": "execute_result"
    }
   ],
   "source": [
    "client.delete_analyzer(ANALYZER_ID)"
   ]
  }
 ],
 "metadata": {
  "kernelspec": {
   "display_name": "Python 3",
   "language": "python",
   "name": "python3"
  },
  "language_info": {
   "codemirror_mode": {
    "name": "ipython",
    "version": 3
   },
   "file_extension": ".py",
   "mimetype": "text/x-python",
   "name": "python",
   "nbconvert_exporter": "python",
   "pygments_lexer": "ipython3",
   "version": "3.8.10"
  }
 },
 "nbformat": 4,
 "nbformat_minor": 2
}
