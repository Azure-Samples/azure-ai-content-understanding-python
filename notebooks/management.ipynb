{
 "cells": [
  {
   "cell_type": "markdown",
   "metadata": {},
   "source": [
    "# Managing Analyzers in Your Resource"
   ]
  },
  {
   "cell_type": "markdown",
   "metadata": {},
   "source": [
    "This notebook demonstrates how to create a simple analyzer and manage its lifecycle."
   ]
  },
  {
   "cell_type": "markdown",
   "metadata": {},
   "source": [
    "## Prerequisites\n",
    "1. Ensure your Azure AI service is configured following the [configuration steps](../README.md#configure-azure-ai-service-resource).\n",
    "2. Install the required packages to run this sample."
   ]
  },
  {
   "cell_type": "code",
   "execution_count": null,
   "metadata": {},
   "outputs": [],
   "source": [
    "%pip install -r ../requirements.txt"
   ]
  },
  {
   "cell_type": "markdown",
   "metadata": {},
   "source": [
    "## Create the Azure AI Content Understanding Client\n",
    "\n",
    "> The [AzureContentUnderstandingClient](../python/content_understanding_client.py) is a utility class that provides functions to interact with the Content Understanding API. Before the official release of the Content Understanding SDK, this client serves as a lightweight SDK.\n",
    "\n",
    "> Fill the constants **AZURE_AI_ENDPOINT**, **AZURE_AI_API_VERSION**, and **AZURE_AI_API_KEY** with your Azure AI Service details.\n",
    "\n",
    "> ⚠️ Important:\n",
    "Update the code below to match your Azure authentication method.\n",
    "Look for the `# IMPORTANT` comments and modify those sections accordingly.\n",
    "If you skip this step, the sample might not run correctly.\n",
    "\n",
    "> ⚠️ Note: Using a subscription key works, but using Azure Active Directory (AAD) token-based authentication is more secure and highly recommended for production environments."
   ]
  },
  {
   "cell_type": "code",
   "execution_count": null,
   "metadata": {},
   "outputs": [],
   "source": [
    "import logging\n",
    "import json\n",
    "import os\n",
    "import sys\n",
    "import uuid\n",
    "from dotenv import load_dotenv\n",
    "from azure.storage.blob import ContainerSasPermissions\n",
    "from azure.core.credentials import AzureKeyCredential\n",
    "from azure.identity import DefaultAzureCredential\n",
    "from azure.ai.contentunderstanding.aio import ContentUnderstandingClient\n",
    "from azure.ai.contentunderstanding.models import (\n",
    "    ContentAnalyzer,\n",
    "    ContentAnalyzerConfig,\n",
    "    FieldSchema,\n",
    "    FieldDefinition,\n",
    "    FieldType,\n",
    "    GenerationMethod,\n",
    "    AnalysisMode,\n",
    "    ProcessingLocation,\n",
    ")\n",
    "\n",
    "# Add the parent directory to the Python path to import the sample_helper module\n",
    "sys.path.append(os.path.join(os.path.dirname(os.getcwd()), 'python'))\n",
    "from extension.document_processor import DocumentProcessor\n",
    "from extension.sample_helper import extract_operation_id_from_poller, PollerType, save_json_to_file\n",
    "\n",
    "load_dotenv()\n",
    "logging.basicConfig(level=logging.INFO)\n",
    "\n",
    "endpoint = os.environ.get(\"AZURE_CONTENT_UNDERSTANDING_ENDPOINT\")\n",
    "# Return AzureKeyCredential if AZURE_CONTENT_UNDERSTANDING_KEY is set, otherwise DefaultAzureCredential\n",
    "key = os.getenv(\"AZURE_CONTENT_UNDERSTANDING_KEY\")\n",
    "credential = AzureKeyCredential(key) if key else DefaultAzureCredential()\n",
    "# Create the ContentUnderstandingClient\n",
    "client = ContentUnderstandingClient(endpoint=endpoint, credential=credential)\n",
    "print(\"✅ ContentUnderstandingClient created successfully\")\n",
    "\n",
    "try:\n",
    "    processor = DocumentProcessor(client)\n",
    "    print(\"✅ DocumentProcessor created successfully\")\n",
    "except Exception as e:\n",
    "    print(f\"❌ Failed to create DocumentProcessor: {e}\")\n",
    "    raise"
   ]
  },
  {
   "cell_type": "markdown",
   "metadata": {},
   "source": [
    "## Create a Simple Analyzer\n",
    "First, we create an analyzer from a template to extract invoice fields."
   ]
  },
  {
   "cell_type": "code",
   "execution_count": null,
   "metadata": {},
   "outputs": [],
   "source": [
    "analyzer_id = \"management-sample-\" + str(uuid.uuid4())\n",
    "\n",
    "# Create a custom analyzer using object model\n",
    "print(f\"🔧 Creating custom analyzer '{analyzer_id}'...\")\n",
    "\n",
    "call_analyzer = ContentAnalyzer(\n",
    "    base_analyzer_id=\"prebuilt-callCenter\",\n",
    "    description=\"Sample call recording analytics\",\n",
    "    config=ContentAnalyzerConfig(\n",
    "        return_details=True,\n",
    "        locales=[\"en-US\"]\n",
    "    ),\n",
    "    field_schema=FieldSchema(\n",
    "        fields={\n",
    "            \"Summary\": FieldDefinition(\n",
    "                type=FieldType.STRING,\n",
    "                method=GenerationMethod.GENERATE,\n",
    "                description=\"A one-paragraph summary\"\n",
    "            ),\n",
    "            \"Topics\": FieldDefinition(\n",
    "                type=FieldType.ARRAY,\n",
    "                method=GenerationMethod.GENERATE,\n",
    "                description=\"Top 5 topics mentioned\",\n",
    "                items_property={\n",
    "                    \"type\": \"string\"\n",
    "                }\n",
    "            ),\n",
    "            \"Companies\": FieldDefinition(\n",
    "                type=FieldType.ARRAY,\n",
    "                method=GenerationMethod.GENERATE,\n",
    "                description=\"List of companies mentioned\",\n",
    "                items_property={\n",
    "                    \"type\": \"string\"\n",
    "                }\n",
    "            ),\n",
    "            \"People\": FieldDefinition(\n",
    "              type=FieldType.ARRAY,\n",
    "              method=GenerationMethod.GENERATE,\n",
    "              description=\"List of people mentioned\",\n",
    "              items_property={\n",
    "                  \"type\": FieldType.OBJECT,\n",
    "                  \"properties\": {\n",
    "                      \"Name\": {\n",
    "                          \"type\": FieldType.STRING,\n",
    "                          \"description\": \"Person's name\"\n",
    "                  },\n",
    "                  \"Role\": {\n",
    "                    \"type\": FieldType.STRING,\n",
    "                    \"description\": \"Person's title/role\"\n",
    "                  }\n",
    "                }\n",
    "              }\n",
    "            ),\n",
    "            \"Sentiment\": FieldDefinition(\n",
    "              type=FieldType.STRING,\n",
    "              method=GenerationMethod.CLASSIFY,\n",
    "              description=\"Overall sentiment\",\n",
    "              enum=[\n",
    "                \"Positive\",\n",
    "                \"Neutral\",\n",
    "                \"Negative\"\n",
    "              ]\n",
    "            ),\n",
    "            \"Categories\": FieldDefinition(\n",
    "              type=FieldType.ARRAY,\n",
    "              method=GenerationMethod.CLASSIFY,\n",
    "              description=\"List of relevant categories\",\n",
    "              items_property={\n",
    "                \"type\": FieldType.STRING,\n",
    "                \"enum\": [\n",
    "                  \"Agriculture\",\n",
    "                  \"Business\",\n",
    "                  \"Finance\",\n",
    "                  \"Health\",\n",
    "                  \"Insurance\",\n",
    "                  \"Mining\",\n",
    "                  \"Pharmaceutical\",\n",
    "                  \"Retail\",\n",
    "                  \"Technology\",\n",
    "                  \"Transportation\"\n",
    "                ]\n",
    "              }\n",
    "            )\n",
    "        }\n",
    "    )\n",
    ")\n",
    "\n",
    "# Start the analyzer creation operation\n",
    "poller = await client.content_analyzers.begin_create_or_replace(\n",
    "    analyzer_id=analyzer_id,\n",
    "    resource=call_analyzer,\n",
    ")\n",
    "\n",
    "# Extract operation ID from the poller\n",
    "operation_id = extract_operation_id_from_poller(\n",
    "    poller, PollerType.ANALYZER_CREATION\n",
    ")\n",
    "print(f\"📋 Extracted creation operation ID: {operation_id}\")\n",
    "\n",
    "# Wait for the analyzer to be created\n",
    "print(f\"⏳ Waiting for analyzer creation to complete...\")\n",
    "await poller.result()\n",
    "print(f\"✅ Analyzer '{analyzer_id}' created successfully!\")"
   ]
  },
  {
   "cell_type": "markdown",
   "metadata": {},
   "source": [
    "## List All Analyzers in Your Resource"
   ]
  },
  {
   "cell_type": "markdown",
   "metadata": {},
   "source": [
    "After successfully creating an analyzer, you can use it to analyze our input files. You can also list all analyzers available in your resource."
   ]
  },
  {
   "cell_type": "code",
   "execution_count": null,
   "metadata": {},
   "outputs": [],
   "source": [
    "response = client.content_analyzers.list()\n",
    "analyzers = [analyzer async for analyzer in response]\n",
    "\n",
    "print(f\"✅ Found {len(analyzers)} analyzers\")\n",
    "\n",
    "# Display detailed information about each analyzer\n",
    "for i, analyzer in enumerate(analyzers, 1):\n",
    "    print(f\"🔍 Analyzer {i}:\")\n",
    "    print(f\"   ID: {analyzer.analyzer_id}\")\n",
    "    print(f\"   Description: {analyzer.description}\")\n",
    "    print(f\"   Status: {analyzer.status}\")\n",
    "    print(f\"   Created at: {analyzer.created_at}\")\n",
    "\n",
    "    # Check if it's a prebuilt analyzer\n",
    "    if analyzer.analyzer_id.startswith(\"prebuilt-\"):\n",
    "        print(f\"   Type: Prebuilt analyzer\")\n",
    "    else:\n",
    "        print(f\"   Type: Custom analyzer\")\n",
    "\n",
    "    # Show tags if available\n",
    "    if hasattr(analyzer, \"tags\") and analyzer.tags:\n",
    "        print(f\"   Tags: {analyzer.tags}\")"
   ]
  },
  {
   "cell_type": "markdown",
   "metadata": {},
   "source": [
    "## Get Analyzer Details by ID\n",
    "\n",
    "Keep track of the analyzer ID when you create it. Use the ID to retrieve detailed analyzer definitions later."
   ]
  },
  {
   "cell_type": "code",
   "execution_count": null,
   "metadata": {},
   "outputs": [],
   "source": [
    "retrieved_analyzer: ContentAnalyzer = await client.content_analyzers.get(analyzer_id=analyzer_id)\n",
    "print(f\"✅ Analyzer '{analyzer_id}' retrieved successfully!\")\n",
    "print(f\"   Description: {retrieved_analyzer.description}\")\n",
    "print(f\"   Status: {retrieved_analyzer.status}\")\n",
    "print(f\"   Created at: {retrieved_analyzer.created_at}\")"
   ]
  },
  {
   "cell_type": "markdown",
   "metadata": {},
   "source": [
    "## Delete an Analyzer\n",
    "If you no longer need an analyzer, delete it using its ID."
   ]
  },
  {
   "cell_type": "code",
   "execution_count": null,
   "metadata": {},
   "outputs": [],
   "source": [
    "# Clean up: delete the analyzer (demo purposes only)\n",
    "# Note: You can leave the analyzer for later use if desired\n",
    "print(f\"🗑️  Deleting analyzer '{analyzer_id}' (demo cleanup)...\")\n",
    "await client.content_analyzers.delete(analyzer_id=analyzer_id)\n",
    "print(f\"✅ Analyzer '{analyzer_id}' deleted successfully!\")"
   ]
  }
 ],
 "metadata": {
  "kernelspec": {
   "display_name": "py312",
   "language": "python",
   "name": "python3"
  },
  "language_info": {
   "codemirror_mode": {
    "name": "ipython",
    "version": 3
   },
   "file_extension": ".py",
   "mimetype": "text/x-python",
   "name": "python",
   "nbconvert_exporter": "python",
   "pygments_lexer": "ipython3",
   "version": "3.12.3"
  }
 },
 "nbformat": 4,
 "nbformat_minor": 2
}
